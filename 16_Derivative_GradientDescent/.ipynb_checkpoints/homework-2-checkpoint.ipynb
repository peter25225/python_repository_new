{
 "cells": [
  {
   "cell_type": "markdown",
   "metadata": {},
   "source": [
    "# Домашняя работа №2"
   ]
  },
  {
   "cell_type": "code",
   "execution_count": 92,
   "metadata": {},
   "outputs": [],
   "source": [
    "import matplotlib.pyplot as plt\n",
    "import numpy as np\n",
    "import pandas as pd\n",
    "import pylab\n",
    "import math\n",
    "import sympy\n",
    "from scipy.optimize import minimize, approx_fprime, fmin, brute\n",
    "from scipy.signal import find_peaks"
   ]
  },
  {
   "cell_type": "markdown",
   "metadata": {},
   "source": [
    "### Задание 1"
   ]
  },
  {
   "cell_type": "markdown",
   "metadata": {},
   "source": [
    "Посчитайте 1-ую и 2-ую производные функции (на бумажке):\n",
    "\n",
    "$f(x) = sin^2(2x+1)$\n"
   ]
  },
  {
   "cell_type": "markdown",
   "metadata": {},
   "source": [
    "$f(x) = sin(2x+1)*sin(2x+1)$\n",
    "\n",
    "$f'(x) = (sin(2x+1))'*sin(2x+1) + sin(2x+1)*(sin(2x+1))'$\n",
    "\n",
    "$f'(x) = (cos(2x+1)*2)*sin(2x+1) + sin(2x+1)*(cos(2x+1)*2)$\n",
    "\n",
    "$f'(x) = 2sin(2x+1)cos(2x+1) + 2sin(2x+1)cos(2x+1) = 4sin(2x+1)cos(2x+1)$\n",
    "\n",
    "$f'(x) = 2sin(4x+2)$ - используя формулу $sin(2x) = 2sin(x)cos(x)$\n",
    "\n",
    "$f''(x) = 2cos(4x+2)*4 = 8cos(4x+2)$\n",
    "\n"
   ]
  },
  {
   "cell_type": "markdown",
   "metadata": {},
   "source": [
    "### Задание 2: \n",
    "Посчитайте частные производные функции в точкe\n",
    "(на бумажке или в LaTeX и на numpy):"
   ]
  },
  {
   "cell_type": "markdown",
   "metadata": {},
   "source": [
    "$f(x,y)=2x^2y^3 + 1/x + y^2x + 7$ в точке $(1,2)$"
   ]
  },
  {
   "cell_type": "markdown",
   "metadata": {},
   "source": [
    "$\\frac{\\partial f}{\\partial x} = 4xy^3 - \\frac{1}{x^2} + y^2$\n",
    "\n",
    "$\\frac{\\partial f}{\\partial y} = 6x^2y^2 + 2xy$\n",
    "\n",
    "$\\frac{\\partial f}{\\partial x}(1,2) = 4*1*2^3 - \\frac{1}{1^2} + 2^2 = 32 - 1 + 4 = 35 $\n",
    "\n",
    "$\\frac{\\partial f}{\\partial y}(1,2) = 6*1^2*2^2 + 2*1*2$ = 24 + 4 = 28"
   ]
  },
  {
   "cell_type": "code",
   "execution_count": 93,
   "metadata": {},
   "outputs": [
    {
     "name": "stdout",
     "output_type": "stream",
     "text": [
      "Частная производная по X:\n"
     ]
    },
    {
     "data": {
      "text/latex": [
       "$\\displaystyle 4 x y^{3} + y^{2} - \\frac{1}{x^{2}}$"
      ],
      "text/plain": [
       "4*x*y**3 + y**2 - 1/x**2"
      ]
     },
     "execution_count": 93,
     "metadata": {},
     "output_type": "execute_result"
    }
   ],
   "source": [
    "from sympy import Symbol, Derivative\n",
    "import sympy as sym\n",
    "\n",
    "x = Symbol('x')\n",
    "y= Symbol('y')\n",
    "\n",
    "# Задаем исходную функцию\n",
    "function= 2*x**2 * y**3 + 1/x + y**2*x + 7\n",
    "\n",
    "# Получаем производную по X\n",
    "partialderiv= Derivative(function, x).doit()\n",
    "print('Частная производная по X:')\n",
    "partialderiv"
   ]
  },
  {
   "cell_type": "code",
   "execution_count": 94,
   "metadata": {},
   "outputs": [
    {
     "name": "stdout",
     "output_type": "stream",
     "text": [
      "Значение в точке (1,2): 35.0000000000000\n"
     ]
    }
   ],
   "source": [
    "# Считаем значение в точке (1,2)\n",
    "print(f'Значение в точке (1,2): {partialderiv.evalf(subs={x:1, y:2})}')"
   ]
  },
  {
   "cell_type": "code",
   "execution_count": 95,
   "metadata": {},
   "outputs": [
    {
     "name": "stdout",
     "output_type": "stream",
     "text": [
      "Частная производная по Y:\n"
     ]
    },
    {
     "data": {
      "text/latex": [
       "$\\displaystyle 6 x^{2} y^{2} + 2 x y$"
      ],
      "text/plain": [
       "6*x**2*y**2 + 2*x*y"
      ]
     },
     "execution_count": 95,
     "metadata": {},
     "output_type": "execute_result"
    }
   ],
   "source": [
    "# Получаем производную по Y\n",
    "partialderiv= Derivative(function, y).doit()\n",
    "print('Частная производная по Y:')\n",
    "partialderiv"
   ]
  },
  {
   "cell_type": "code",
   "execution_count": 96,
   "metadata": {},
   "outputs": [
    {
     "name": "stdout",
     "output_type": "stream",
     "text": [
      "Значение в точке (1,2): 28.0000000000000\n"
     ]
    }
   ],
   "source": [
    "# Считаем значение в точке (1,2)\n",
    "print(f'Значение в точке (1,2): {partialderiv.evalf(subs={x:1, y:2})}')"
   ]
  },
  {
   "cell_type": "markdown",
   "metadata": {},
   "source": [
    "### Задание 3"
   ]
  },
  {
   "cell_type": "markdown",
   "metadata": {},
   "source": [
    "Найти точки минимума в следующих данных (колонка height):"
   ]
  },
  {
   "cell_type": "code",
   "execution_count": 97,
   "metadata": {},
   "outputs": [
    {
     "data": {
      "text/html": [
       "<div>\n",
       "<style scoped>\n",
       "    .dataframe tbody tr th:only-of-type {\n",
       "        vertical-align: middle;\n",
       "    }\n",
       "\n",
       "    .dataframe tbody tr th {\n",
       "        vertical-align: top;\n",
       "    }\n",
       "\n",
       "    .dataframe thead th {\n",
       "        text-align: right;\n",
       "    }\n",
       "</style>\n",
       "<table border=\"1\" class=\"dataframe\">\n",
       "  <thead>\n",
       "    <tr style=\"text-align: right;\">\n",
       "      <th></th>\n",
       "      <th>sec</th>\n",
       "      <th>x1</th>\n",
       "      <th>y1</th>\n",
       "      <th>x2</th>\n",
       "      <th>y2</th>\n",
       "      <th>height</th>\n",
       "      <th>inv_height</th>\n",
       "    </tr>\n",
       "  </thead>\n",
       "  <tbody>\n",
       "    <tr>\n",
       "      <th>0</th>\n",
       "      <td>0</td>\n",
       "      <td>875</td>\n",
       "      <td>1411</td>\n",
       "      <td>1008</td>\n",
       "      <td>1835</td>\n",
       "      <td>414</td>\n",
       "      <td>-414</td>\n",
       "    </tr>\n",
       "    <tr>\n",
       "      <th>1</th>\n",
       "      <td>1</td>\n",
       "      <td>883</td>\n",
       "      <td>1377</td>\n",
       "      <td>1057</td>\n",
       "      <td>1873</td>\n",
       "      <td>417</td>\n",
       "      <td>-417</td>\n",
       "    </tr>\n",
       "    <tr>\n",
       "      <th>2</th>\n",
       "      <td>2</td>\n",
       "      <td>862</td>\n",
       "      <td>1397</td>\n",
       "      <td>1066</td>\n",
       "      <td>1872</td>\n",
       "      <td>417</td>\n",
       "      <td>-417</td>\n",
       "    </tr>\n",
       "    <tr>\n",
       "      <th>3</th>\n",
       "      <td>3</td>\n",
       "      <td>878</td>\n",
       "      <td>1394</td>\n",
       "      <td>1046</td>\n",
       "      <td>1875</td>\n",
       "      <td>417</td>\n",
       "      <td>-417</td>\n",
       "    </tr>\n",
       "    <tr>\n",
       "      <th>4</th>\n",
       "      <td>4</td>\n",
       "      <td>910</td>\n",
       "      <td>1378</td>\n",
       "      <td>1070</td>\n",
       "      <td>1866</td>\n",
       "      <td>417</td>\n",
       "      <td>-417</td>\n",
       "    </tr>\n",
       "    <tr>\n",
       "      <th>...</th>\n",
       "      <td>...</td>\n",
       "      <td>...</td>\n",
       "      <td>...</td>\n",
       "      <td>...</td>\n",
       "      <td>...</td>\n",
       "      <td>...</td>\n",
       "      <td>...</td>\n",
       "    </tr>\n",
       "    <tr>\n",
       "      <th>150</th>\n",
       "      <td>150</td>\n",
       "      <td>878</td>\n",
       "      <td>1405</td>\n",
       "      <td>1005</td>\n",
       "      <td>1871</td>\n",
       "      <td>1395</td>\n",
       "      <td>-1395</td>\n",
       "    </tr>\n",
       "    <tr>\n",
       "      <th>151</th>\n",
       "      <td>151</td>\n",
       "      <td>882</td>\n",
       "      <td>1405</td>\n",
       "      <td>1010</td>\n",
       "      <td>1871</td>\n",
       "      <td>1331</td>\n",
       "      <td>-1331</td>\n",
       "    </tr>\n",
       "    <tr>\n",
       "      <th>152</th>\n",
       "      <td>152</td>\n",
       "      <td>884</td>\n",
       "      <td>1406</td>\n",
       "      <td>1011</td>\n",
       "      <td>1875</td>\n",
       "      <td>1264</td>\n",
       "      <td>-1264</td>\n",
       "    </tr>\n",
       "    <tr>\n",
       "      <th>153</th>\n",
       "      <td>153</td>\n",
       "      <td>856</td>\n",
       "      <td>1404</td>\n",
       "      <td>978</td>\n",
       "      <td>1864</td>\n",
       "      <td>1172</td>\n",
       "      <td>-1172</td>\n",
       "    </tr>\n",
       "    <tr>\n",
       "      <th>154</th>\n",
       "      <td>154</td>\n",
       "      <td>862</td>\n",
       "      <td>1404</td>\n",
       "      <td>986</td>\n",
       "      <td>1863</td>\n",
       "      <td>1102</td>\n",
       "      <td>-1102</td>\n",
       "    </tr>\n",
       "  </tbody>\n",
       "</table>\n",
       "<p>155 rows × 7 columns</p>\n",
       "</div>"
      ],
      "text/plain": [
       "     sec   x1    y1    x2    y2  height  inv_height\n",
       "0      0  875  1411  1008  1835     414        -414\n",
       "1      1  883  1377  1057  1873     417        -417\n",
       "2      2  862  1397  1066  1872     417        -417\n",
       "3      3  878  1394  1046  1875     417        -417\n",
       "4      4  910  1378  1070  1866     417        -417\n",
       "..   ...  ...   ...   ...   ...     ...         ...\n",
       "150  150  878  1405  1005  1871    1395       -1395\n",
       "151  151  882  1405  1010  1871    1331       -1331\n",
       "152  152  884  1406  1011  1875    1264       -1264\n",
       "153  153  856  1404   978  1864    1172       -1172\n",
       "154  154  862  1404   986  1863    1102       -1102\n",
       "\n",
       "[155 rows x 7 columns]"
      ]
     },
     "execution_count": 97,
     "metadata": {},
     "output_type": "execute_result"
    }
   ],
   "source": [
    "import pandas as pd\n",
    "data = pd.read_csv('video.csv')\n",
    "\n",
    "def inverse_height(height):\n",
    "    return height*(-1)\n",
    "\n",
    "# Инвертируем значения поля height для последующего использования функции find_peaks\n",
    "data['inv_height'] = data['height'].apply(inverse_height)\n",
    "data.head(155)\n"
   ]
  },
  {
   "cell_type": "code",
   "execution_count": 98,
   "metadata": {},
   "outputs": [
    {
     "data": {
      "text/plain": [
       "Text(0, 0.5, 'изменение высоты по времени')"
      ]
     },
     "execution_count": 98,
     "metadata": {},
     "output_type": "execute_result"
    },
    {
     "data": {
      "image/png": "[encoded data removed]",
      "text/plain": [
       "<Figure size 1440x288 with 1 Axes>"
      ]
     },
     "metadata": {
      "needs_background": "light"
     },
     "output_type": "display_data"
    }
   ],
   "source": [
    "plt.figure(figsize=(20,4))\n",
    "plt.plot(data.inv_height)\n",
    "plt.xlabel('время')\n",
    "plt.ylabel('изменение высоты по времени')"
   ]
  },
  {
   "cell_type": "code",
   "execution_count": 117,
   "metadata": {},
   "outputs": [
    {
     "data": {
      "image/png": "[encoded data removed]",
      "text/plain": [
       "<Figure size 432x288 with 1 Axes>"
      ]
     },
     "metadata": {
      "needs_background": "light"
     },
     "output_type": "display_data"
    }
   ],
   "source": [
    "peaks, _ = find_peaks(data.inv_height, prominence=20, width=80)\n",
    "plt.plot(data.inv_height)\n",
    "plt.plot(peaks, data.inv_height[peaks], \"o\")\n",
    "plt.show()"
   ]
  },
  {
   "cell_type": "code",
   "execution_count": null,
   "metadata": {},
   "outputs": [],
   "source": []
  }
 ],
 "metadata": {
  "kernelspec": {
   "display_name": "Python 3",
   "language": "python",
   "name": "python3"
  },
  "language_info": {
   "codemirror_mode": {
    "name": "ipython",
    "version": 3
   },
   "file_extension": ".py",
   "mimetype": "text/x-python",
   "name": "python",
   "nbconvert_exporter": "python",
   "pygments_lexer": "ipython3",
   "version": "3.7.6"
  }
 },
 "nbformat": 4,
 "nbformat_minor": 2
}
