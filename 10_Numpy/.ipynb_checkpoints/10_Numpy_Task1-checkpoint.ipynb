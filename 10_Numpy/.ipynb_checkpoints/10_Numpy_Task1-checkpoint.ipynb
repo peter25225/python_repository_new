{
 "cells": [
  {
   "cell_type": "code",
   "execution_count": null,
   "metadata": {},
   "outputs": [],
   "source": [
    "# Задание 1\n",
    "# Создайте numpy array с элементами от числа N до 0\n",
    "# (например, для N = 10 это будет array([9, 8, 7, 6, 5, 4, 3, 2, 1, 0])).\n",
    "\n",
    "import numpy as np\n",
    "\n",
    "N = 20\n",
    "\n",
    "na = np.arange(N-1,-1,-1)\n",
    "print(na)"
   ]
  },
  {
   "cell_type": "code",
   "execution_count": null,
   "metadata": {},
   "outputs": [],
   "source": [
    "# Задание 2\n",
    "# Создайте диагональную матрицу с элементами от N до 0. Посчитайте сумму ее значений на диагонали.\n",
    "\n",
    "N = 24\n",
    "\n",
    "matrix = np.full([N, N], 0)\n",
    "na = np.arange(N-1,-1,-1)\n",
    "\n",
    "for i in range(N):\n",
    "    matrix[i][i] = na[i]\n",
    "\n",
    "print(matrix)\n",
    "print(f'Сумма элеметов диагонали: {np.diagonal(matrix).sum()}')\n"
   ]
  },
  {
   "cell_type": "code",
   "execution_count": null,
   "metadata": {},
   "outputs": [],
   "source": [
    "# Задание 3\n",
    "# Решите систему уравнений:\n",
    "# 4x + 2y + z = 4\n",
    "# x + 3y = 12\n",
    "# 5y + 4z = -3\n",
    "\n",
    "\n",
    "from numpy import linalg\n",
    "\n",
    "a = np.array( [ [4, 2, 1], [1, 3, 0], [0, 5, 4] ] )\n",
    "b = np.array( [4, 12, -3] )\n",
    "\n",
    "print(linalg.solve(a, b))\n",
    "\n",
    "np.allclose( np.dot(a, linalg.solve(a, b)), b )"
   ]
  },
  {
   "cell_type": "code",
   "execution_count": null,
   "metadata": {},
   "outputs": [],
   "source": [
    "# Задача 4\n",
    "# Имеется матрица покупок в интернет-магазине. Столбец А - ID пользователя.\n",
    "# Остальные столбцы - количество покупок категорий товаров этим пользователем\n",
    "\n",
    "# Найдите самого похожего пользователя. Т. е. посчитайте косинусное расстояние между\n",
    "# этим пользователем и всеми пользователями из массива user_stats\n",
    "\n",
    "users_stats = np.array(\n",
    "    [\n",
    "        [2, 1, 0, 0, 0, 0],\n",
    "        [1, 1, 2, 1, 0, 0],\n",
    "        [2, 0, 1, 0, 0, 0],\n",
    "        [1, 1, 2, 1, 0, 1],\n",
    "        [0, 0, 1, 2, 0, 0],\n",
    "        [0, 0, 0, 0, 0, 5],\n",
    "        [1, 0, 0, 0, 0, 0],\n",
    "        [0, 1, 1, 0, 0, 0],\n",
    "        [0, 0, 0, 1, 1, 3],\n",
    "        [1, 0, 0, 2, 1, 4]\n",
    "    ], \n",
    "    np.int32\n",
    ")\n",
    "\n",
    "next_user_stats = np.array([0, 1, 2, 0, 0, 0])\n",
    "max_cos_range = 0\n",
    "max_cos_num = 0\n",
    "i = 0\n",
    "\n",
    "\n",
    "def cos_range(a,b):\n",
    "    \"\"\"\n",
    "    Подсчет косинуса угла между векторами a, b по их координатам\n",
    "    \"\"\"\n",
    "    # длины векторов\n",
    "    aLength = np.linalg.norm( a )\n",
    "    bLength = np.linalg.norm( b )\n",
    "    \n",
    "    return np.dot( a, b ) / ( aLength * bLength )\n",
    "\n",
    "print('Результаты вычисления косинусного расстояния:')\n",
    "\n",
    "for user_profile in users_stats:\n",
    "    i += 1\n",
    "    print(round(cos_range(next_user_stats, user_profile),2))\n",
    "    if cos_range(next_user_stats, user_profile) > max_cos_range:\n",
    "        max_cos_range = cos_range(next_user_stats, user_profile)\n",
    "        max_cos_num = i\n",
    "        \n",
    "print(f'Косинусное расстояние с наиболее близким профилем: {round(max_cos_range,2)}, пользователь #{max_cos_num} ')"
   ]
  },
  {
   "cell_type": "code",
   "execution_count": null,
   "metadata": {},
   "outputs": [],
   "source": []
  }
 ],
 "metadata": {
  "kernelspec": {
   "display_name": "Python 3",
   "language": "python",
   "name": "python3"
  },
  "language_info": {
   "codemirror_mode": {
    "name": "ipython",
    "version": 3
   },
   "file_extension": ".py",
   "mimetype": "text/x-python",
   "name": "python",
   "nbconvert_exporter": "python",
   "pygments_lexer": "ipython3",
   "version": "3.7.6"
  }
 },
 "nbformat": 4,
 "nbformat_minor": 4
}
