{
 "cells": [
  {
   "cell_type": "code",
   "execution_count": 82,
   "metadata": {},
   "outputs": [],
   "source": [
    "import json\n",
    "cur_purchase = {}\n",
    "purchases = {}\n",
    "cur_line = []\n",
    "\n",
    "# Загружаем файл 'purchase_log.txt' в память\n",
    "with open('purchase_log.txt', encoding='utf-8') as f:\n",
    "    file_content = f.readlines()\n",
    "\n",
    "# Читаем список поэлементно, исключая первую строку, добавляем строку в словарь\n",
    "for line in file_content[1:]:\n",
    "    cur_purchase = json.loads(line.strip())\n",
    "    purchases[cur_purchase.get('user_id')] = cur_purchase.get('category')\n",
    "\n",
    "# Читаем построчно файл 'visit_log.csv'\n",
    "with open('visit_log.csv', 'r') as visit_log:\n",
    "    with open('funnel.csv','w', encoding='utf-8') as funnel:\n",
    "        for line in visit_log:\n",
    "# Записываем строку в список\n",
    "            cur_line = line.strip().split(',')\n",
    "# Если user_id найден в словаре, содержащем покупки\n",
    "            if purchases.get(cur_line[0]):\n",
    "# Записываем строку в файл 'funnel.csv'\n",
    "                line = line.strip() + ',' + purchases.get(cur_line[0]) + '\\n'\n",
    "                funnel.write(line)\n",
    "\n",
    "    \n"
   ]
  },
  {
   "cell_type": "code",
   "execution_count": null,
   "metadata": {},
   "outputs": [],
   "source": []
  }
 ],
 "metadata": {
  "kernelspec": {
   "display_name": "Python 3",
   "language": "python",
   "name": "python3"
  },
  "language_info": {
   "codemirror_mode": {
    "name": "ipython",
    "version": 3
   },
   "file_extension": ".py",
   "mimetype": "text/x-python",
   "name": "python",
   "nbconvert_exporter": "python",
   "pygments_lexer": "ipython3",
   "version": "3.7.6"
  }
 },
 "nbformat": 4,
 "nbformat_minor": 4
}
