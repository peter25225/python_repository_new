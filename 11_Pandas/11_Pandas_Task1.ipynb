{
 "cells": [
  {
   "cell_type": "code",
   "execution_count": 1,
   "metadata": {},
   "outputs": [],
   "source": [
    "import pandas as pd"
   ]
  },
  {
   "cell_type": "code",
   "execution_count": 10,
   "metadata": {},
   "outputs": [
    {
     "name": "stdout",
     "output_type": "stream",
     "text": [
      "Фильм: 318 - Shawshank Redemption, The (1994)\n",
      "Число оценок 5.0: 39553\n"
     ]
    }
   ],
   "source": [
    "# Задание 1\n",
    "# Скачайте с сайта https://grouplens.org/datasets/movielens/ датасет любого размера.\n",
    "# Определите какому фильму было выставлено больше всего оценок 5.0.\n",
    "\n",
    "data = pd.read_csv('ratings.csv')\n",
    "movies = pd.read_csv('movies.csv')\n",
    "\n",
    "data = data[data.rating == 5.0]\n",
    "movie = data['movieId'].value_counts()\n",
    "mov_title = movies[movies.movieId == movie.index[0]]['title'].values[0]\n",
    "print(f'Фильм: {movie.index[0]} - {mov_title}')\n",
    "print(f'Число оценок 5.0: {movie.values[0]}')"
   ]
  },
  {
   "cell_type": "code",
   "execution_count": 44,
   "metadata": {},
   "outputs": [
    {
     "data": {
      "text/plain": [
       "Lithuania    437\n",
       "Latvia       257\n",
       "Estonia      220\n",
       "Name: country, dtype: int64"
      ]
     },
     "execution_count": 44,
     "metadata": {},
     "output_type": "execute_result"
    }
   ],
   "source": [
    "# Задание 2\n",
    "# По данным файла power.csv посчитайте суммарное потребление стран Прибалтики\n",
    "# (Латвия, Литва и Эстония) категорий 4, 12 и 21 за период с 2005 по 2010 года.\n",
    "# Не учитывайте в расчетах отрицательные значения quantity.\n",
    "\n",
    "data_power = pd.read_csv('power.csv')\n",
    "\n",
    "filtered_countries = data_power[\n",
    "    ((data_power['country']=='Latvia') |\n",
    "    (data_power['country']=='Lithuania') |\n",
    "    (data_power['country']=='Estonia')) &\n",
    "    (data_power['quantity'] > 0) &\n",
    "    (#(data_power['category'] == 4) |\n",
    "    (data_power['category'] == 12) |\n",
    "    (data_power['category'] == 21))\n",
    "]\n",
    "filtered_countries['country'].value_counts().head()"
   ]
  },
  {
   "cell_type": "code",
   "execution_count": 56,
   "metadata": {},
   "outputs": [
    {
     "data": {
      "text/plain": [
       "[                                                   0       1\n",
       " 0  Разрешена реклама в приложениях в социальных с...   Можно\n",
       " 1  Разрешена таргетированная реклама в социальных...   Можно\n",
       " 2    Разрешена реклама в группах в социальных сетях?   Можно\n",
       " 3  Разрешено ли создавать паблики от имени компан...  Нельзя\n",
       " 4                      Разрешена реклама в Facebook?   Можно\n",
       " 5                     Разрешена реклама в VKontakte?   Можно\n",
       " 6                 Разрешена реклама в Одноклассники?   Можно,\n",
       "                                0                1\n",
       " 0                       Cashback            Можно\n",
       " 1             PopUp / ClickUnder  По согласованию\n",
       " 2            Контекстная реклама           Нельзя\n",
       " 3                  Дорвей-трафик           Нельзя\n",
       " 4                 Email-рассылка  По согласованию\n",
       " 5   Контекстная реклама на бренд           Нельзя\n",
       " 6          Мотивированный трафик           Нельзя\n",
       " 7                        Toolbar           Нельзя\n",
       " 8                   Adult-трафик           Нельзя\n",
       " 9                  Тизерные сети  По согласованию\n",
       " 10                 YouTube-канал            Можно]"
      ]
     },
     "execution_count": 56,
     "metadata": {},
     "output_type": "execute_result"
    }
   ],
   "source": [
    "# Задание 3\n",
    "# Выберите страницу любого сайта с табличными данными. Импортируйте таблицы в pandas dataframe.\n",
    "page_url = 'https://www.admitad.com/ru/webmaster/offers/17590-perekrestok'\n",
    "\n",
    "df = pd.read_html(page_url, attrs = {'class': 'advcamapign-traffic-rules'}, encoding='utf-8')\n",
    "df[0:5]"
   ]
  },
  {
   "cell_type": "code",
   "execution_count": null,
   "metadata": {},
   "outputs": [],
   "source": []
  }
 ],
 "metadata": {
  "kernelspec": {
   "display_name": "Python 3",
   "language": "python",
   "name": "python3"
  },
  "language_info": {
   "codemirror_mode": {
    "name": "ipython",
    "version": 3
   },
   "file_extension": ".py",
   "mimetype": "text/x-python",
   "name": "python",
   "nbconvert_exporter": "python",
   "pygments_lexer": "ipython3",
   "version": "3.7.6"
  }
 },
 "nbformat": 4,
 "nbformat_minor": 4
}
