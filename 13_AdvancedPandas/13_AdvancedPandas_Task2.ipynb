{
 "cells": [
  {
   "cell_type": "code",
   "execution_count": 110,
   "metadata": {},
   "outputs": [],
   "source": [
    "import pandas as pd\n",
    "from datetime import datetime"
   ]
  },
  {
   "cell_type": "code",
   "execution_count": 111,
   "metadata": {},
   "outputs": [
    {
     "name": "stdout",
     "output_type": "stream",
     "text": [
      "lifetime   455 days 05:29:08.566539\n",
      "dtype: timedelta64[ns]\n"
     ]
    }
   ],
   "source": [
    "# Задание 1\n",
    "\n",
    "# Используйте файл с оценками фильмов ml-latest-small/ratings.csv. Посчитайте среднее время жизни пользователей,\n",
    "# которые выставили более 100 оценок. Под временем жизни понимается разница между максимальным и минимальным значением\n",
    "# столбца timestamp для данного значения userId.\n",
    "\n",
    "# Создаем функцию, возвращающую период между датой первой оценки и датой второй оценки в формате datetime \n",
    "def get_time(row):\n",
    "    return datetime.fromtimestamp(row['max'])-datetime.fromtimestamp(row['min'])\n",
    "\n",
    "# Читаем csv файл в датафрейм\n",
    "ratings = pd.read_csv('ml-latest-small/ratings.csv')\n",
    "\n",
    "# Группируем по полю userId, записываем даты первой (min) и последней (max) оценок пользователя,\n",
    "# а также количество оценок\n",
    "ratings = ratings.groupby('userId').agg({'timestamp': ['min', 'max'], 'movieId': 'count'}).reset_index()\n",
    "\n",
    "# Переименовываем столбцы для дальнейшего использования\n",
    "ratings.columns = ['userId','min','max','movies']\n",
    "\n",
    "# Фильтруем по полю movies - отбираем пользователей, поставивших 100 оценок и более\n",
    "ratings = ratings[(ratings['movies'] >= 100.0)]\n",
    "\n",
    "# С помощью подготовленной функции для каждой строки считаем разницу между датами первой и последней оценки\n",
    "ratings['lifetime'] = ratings.apply(get_time, axis=1)\n",
    "\n",
    "# Выводим среднее время жизни пользователей по всем записям\n",
    "print(ratings[['lifetime']].mean())"
   ]
  },
  {
   "cell_type": "code",
   "execution_count": 112,
   "metadata": {},
   "outputs": [
    {
     "data": {
      "text/html": [
       "<div>\n",
       "<style scoped>\n",
       "    .dataframe tbody tr th:only-of-type {\n",
       "        vertical-align: middle;\n",
       "    }\n",
       "\n",
       "    .dataframe tbody tr th {\n",
       "        vertical-align: top;\n",
       "    }\n",
       "\n",
       "    .dataframe thead th {\n",
       "        text-align: right;\n",
       "    }\n",
       "</style>\n",
       "<table border=\"1\" class=\"dataframe\">\n",
       "  <thead>\n",
       "    <tr style=\"text-align: right;\">\n",
       "      <th></th>\n",
       "      <th>address</th>\n",
       "      <th>rzd_revenue</th>\n",
       "      <th>auto_revenue</th>\n",
       "      <th>air_revenue</th>\n",
       "    </tr>\n",
       "    <tr>\n",
       "      <th>client_id</th>\n",
       "      <th></th>\n",
       "      <th></th>\n",
       "      <th></th>\n",
       "      <th></th>\n",
       "    </tr>\n",
       "  </thead>\n",
       "  <tbody>\n",
       "    <tr>\n",
       "      <th>111</th>\n",
       "      <td>Комсомольская 4</td>\n",
       "      <td>1093.0</td>\n",
       "      <td>0.0</td>\n",
       "      <td>0.0</td>\n",
       "    </tr>\n",
       "    <tr>\n",
       "      <th>112</th>\n",
       "      <td>Энтузиастов 8а</td>\n",
       "      <td>2810.0</td>\n",
       "      <td>0.0</td>\n",
       "      <td>0.0</td>\n",
       "    </tr>\n",
       "    <tr>\n",
       "      <th>113</th>\n",
       "      <td>Левобережная 1а</td>\n",
       "      <td>10283.0</td>\n",
       "      <td>57483.0</td>\n",
       "      <td>0.0</td>\n",
       "    </tr>\n",
       "    <tr>\n",
       "      <th>114</th>\n",
       "      <td>Мира 14</td>\n",
       "      <td>5774.0</td>\n",
       "      <td>83.0</td>\n",
       "      <td>0.0</td>\n",
       "    </tr>\n",
       "    <tr>\n",
       "      <th>115</th>\n",
       "      <td>ЗЖБИиДК 1</td>\n",
       "      <td>981.0</td>\n",
       "      <td>912.0</td>\n",
       "      <td>81.0</td>\n",
       "    </tr>\n",
       "    <tr>\n",
       "      <th>116</th>\n",
       "      <td>Строителей 18</td>\n",
       "      <td>0.0</td>\n",
       "      <td>4834.0</td>\n",
       "      <td>4.0</td>\n",
       "    </tr>\n",
       "    <tr>\n",
       "      <th>117</th>\n",
       "      <td>Панфиловская 33</td>\n",
       "      <td>0.0</td>\n",
       "      <td>98.0</td>\n",
       "      <td>13.0</td>\n",
       "    </tr>\n",
       "    <tr>\n",
       "      <th>118</th>\n",
       "      <td>Мастеркова 4</td>\n",
       "      <td>0.0</td>\n",
       "      <td>0.0</td>\n",
       "      <td>173.0</td>\n",
       "    </tr>\n",
       "  </tbody>\n",
       "</table>\n",
       "</div>"
      ],
      "text/plain": [
       "                   address  rzd_revenue  auto_revenue  air_revenue\n",
       "client_id                                                         \n",
       "111        Комсомольская 4       1093.0           0.0          0.0\n",
       "112         Энтузиастов 8а       2810.0           0.0          0.0\n",
       "113        Левобережная 1а      10283.0       57483.0          0.0\n",
       "114                Мира 14       5774.0          83.0          0.0\n",
       "115              ЗЖБИиДК 1        981.0         912.0         81.0\n",
       "116          Строителей 18          0.0        4834.0          4.0\n",
       "117        Панфиловская 33          0.0          98.0         13.0\n",
       "118           Мастеркова 4          0.0           0.0        173.0"
      ]
     },
     "execution_count": 112,
     "metadata": {},
     "output_type": "execute_result"
    }
   ],
   "source": [
    "# Задание 2\n",
    "\n",
    "# Дана статистика услуг перевозок клиентов компании по типам (см. файл с кодом занятия). Необходимо сформировать две\n",
    "# таблицы: таблицу с тремя типами выручки для каждого client_id без указания адреса клиента\n",
    "# аналогичную таблицу по типам выручки с указанием адреса клиента\n",
    "# Обратите внимание, что в процессе объединения таблиц данные не должны теряться.\n",
    "\n",
    "rzd = pd.DataFrame(\n",
    "    {\n",
    "        'client_id': [111, 112, 113, 114, 115],\n",
    "        'rzd_revenue': [1093, 2810, 10283, 5774, 981]\n",
    "    }\n",
    ")\n",
    "\n",
    "\n",
    "auto = pd.DataFrame(\n",
    "    {\n",
    "        'client_id': [113, 114, 115, 116, 117],\n",
    "        'auto_revenue': [57483, 83, 912, 4834, 98]\n",
    "    }\n",
    ")\n",
    "\n",
    "air = pd.DataFrame(\n",
    "    {\n",
    "        'client_id': [115, 116, 117, 118],\n",
    "        'air_revenue': [81, 4, 13, 173]\n",
    "    }\n",
    ")\n",
    "\n",
    "client_base = pd.DataFrame(\n",
    "    {\n",
    "        'client_id': [111, 112, 113, 114, 115, 116, 117, 118],\n",
    "        'address': ['Комсомольская 4', 'Энтузиастов 8а', 'Левобережная 1а', 'Мира 14', 'ЗЖБИиДК 1', \n",
    "                    'Строителей 18', 'Панфиловская 33', 'Мастеркова 4']\n",
    "    }\n",
    ")\n",
    "\n",
    "client_base.set_index('client_id', inplace=True)\n",
    "rzd.set_index('client_id', inplace=True)\n",
    "auto.set_index('client_id', inplace=True)\n",
    "air.set_index('client_id', inplace=True)\n",
    "\n",
    "# Вариант 1 - объединение на основе справочника клиентов (включая адрес клиента)\n",
    "joined_one = client_base.join(rzd,how='left')\n",
    "joined_one = joined_one.join(auto,how='left')\n",
    "joined_one = joined_one.join(air,how='left')\n",
    "joined_one.fillna(0,inplace=True)\n",
    "joined_one"
   ]
  },
  {
   "cell_type": "code",
   "execution_count": 113,
   "metadata": {},
   "outputs": [
    {
     "data": {
      "text/html": [
       "<div>\n",
       "<style scoped>\n",
       "    .dataframe tbody tr th:only-of-type {\n",
       "        vertical-align: middle;\n",
       "    }\n",
       "\n",
       "    .dataframe tbody tr th {\n",
       "        vertical-align: top;\n",
       "    }\n",
       "\n",
       "    .dataframe thead th {\n",
       "        text-align: right;\n",
       "    }\n",
       "</style>\n",
       "<table border=\"1\" class=\"dataframe\">\n",
       "  <thead>\n",
       "    <tr style=\"text-align: right;\">\n",
       "      <th></th>\n",
       "      <th>rzd_revenue</th>\n",
       "      <th>auto_revenue</th>\n",
       "      <th>air_revenue</th>\n",
       "    </tr>\n",
       "    <tr>\n",
       "      <th>client_id</th>\n",
       "      <th></th>\n",
       "      <th></th>\n",
       "      <th></th>\n",
       "    </tr>\n",
       "  </thead>\n",
       "  <tbody>\n",
       "    <tr>\n",
       "      <th>111</th>\n",
       "      <td>1093.0</td>\n",
       "      <td>0.0</td>\n",
       "      <td>0.0</td>\n",
       "    </tr>\n",
       "    <tr>\n",
       "      <th>112</th>\n",
       "      <td>2810.0</td>\n",
       "      <td>0.0</td>\n",
       "      <td>0.0</td>\n",
       "    </tr>\n",
       "    <tr>\n",
       "      <th>113</th>\n",
       "      <td>10283.0</td>\n",
       "      <td>57483.0</td>\n",
       "      <td>0.0</td>\n",
       "    </tr>\n",
       "    <tr>\n",
       "      <th>114</th>\n",
       "      <td>5774.0</td>\n",
       "      <td>83.0</td>\n",
       "      <td>0.0</td>\n",
       "    </tr>\n",
       "    <tr>\n",
       "      <th>115</th>\n",
       "      <td>981.0</td>\n",
       "      <td>912.0</td>\n",
       "      <td>81.0</td>\n",
       "    </tr>\n",
       "    <tr>\n",
       "      <th>116</th>\n",
       "      <td>0.0</td>\n",
       "      <td>4834.0</td>\n",
       "      <td>4.0</td>\n",
       "    </tr>\n",
       "    <tr>\n",
       "      <th>117</th>\n",
       "      <td>0.0</td>\n",
       "      <td>98.0</td>\n",
       "      <td>13.0</td>\n",
       "    </tr>\n",
       "    <tr>\n",
       "      <th>118</th>\n",
       "      <td>0.0</td>\n",
       "      <td>0.0</td>\n",
       "      <td>173.0</td>\n",
       "    </tr>\n",
       "  </tbody>\n",
       "</table>\n",
       "</div>"
      ],
      "text/plain": [
       "           rzd_revenue  auto_revenue  air_revenue\n",
       "client_id                                        \n",
       "111             1093.0           0.0          0.0\n",
       "112             2810.0           0.0          0.0\n",
       "113            10283.0       57483.0          0.0\n",
       "114             5774.0          83.0          0.0\n",
       "115              981.0         912.0         81.0\n",
       "116                0.0        4834.0          4.0\n",
       "117                0.0          98.0         13.0\n",
       "118                0.0           0.0        173.0"
      ]
     },
     "execution_count": 113,
     "metadata": {},
     "output_type": "execute_result"
    }
   ],
   "source": [
    "# Вариант 2 - объединение на основе отдельных таблиц (без адреса клиента)\n",
    "joined_two = rzd.join(auto,how='outer')\n",
    "joined_two = joined_two.join(air, how='outer')\n",
    "joined_two.fillna(0,inplace=True)\n",
    "joined_two"
   ]
  },
  {
   "cell_type": "code",
   "execution_count": null,
   "metadata": {},
   "outputs": [],
   "source": [
    "# Задание 3\n",
    "# В задаче сквозной аналитики вам предоставили данные по местоположению пользователей. Т. е. для каждого user_id\n",
    "# известна последовательность координат (широта/долгота), когда они требовались приложению для полноценной работы.\n",
    "# Как бы вы добавили эти сведения в таблицу визитов и покупок?\n",
    "\n",
    "К сожалению не совсем понятно, что значит \"последовательность координат\" и \"когда они требовались приложению для работы\".\n",
    "Предполагаю, что есть таблица, в которой имеются строки с неуникальными значениями user_id и соответствующим им двумя\n",
    "координатами, а также возможно другими полями.\n",
    "\n",
    "Также не вполне понимаю, что значит \"добавить эти сведения в таблицу визитов и покупок\". Если вопрос в проектировании\n",
    "структуры, в которую затем будут автоматически добавляться данные - есть два варианта:\n",
    "    1) Добавлять сами координаты в таблицу визитов и в таблицу покупок, а не записывать их в отдельную таблицу. В целом\n",
    "    это выглядит предпочтительней (создание отдельной таблицы для хранения всего двух полей, к которым необходимо\n",
    "    будет добавить идентификатор - id пользователя или id визита/покупки, кажется избыточным)\n",
    "        \n",
    "    2) Если же таблица с userid и координатами - это некая данность, то в нее необходимо добавить поле идентификатора\n",
    "    (например, actionId), в котором будет храниться либо id визита, либо id покупки (если они не могут совпадать),\n",
    "    или два поля visitId и orderId, по которым можно привязать координаты к тому или иному событию (визит/покупка). \n",
    "\n",
    "\n",
    "# Для составления ответа можно использовать вопросы:\n",
    "# 1. У каждого пользователя известен набор координат. А для связывания с визитом или фактом покупки скорее всего\n",
    "# потребуется одно-два числа. Как их получить?\n",
    "Опять же не совсем понимаю, что значит \"как их получить\"? В идеале при работе системы координаты привязываются\n",
    "к визиту/покупке автоматически. Если же это не наш случай, и нужно сопоставить визиты/покупки c координатами, то\n",
    "вероятно, это можно сделать это по userId и данным по дате/времени (если эти данные имеются и в таблице визитов/покупок\n",
    "и в таблице с координатами). \n",
    "\n",
    "# 2. Наборы координат одного и того же пользователя могут быть значительно удалены друг от друга.\n",
    "# Как это отразится на вопросе расчетах пункта 1?\n",
    "Не понял вопрос\n",
    "\n",
    "# 3. Какие дополнительные признаки можно получить из координат? Ведь это просто числа, которые сами по себе мало что\n",
    "# дают.\n",
    "По координатам можно получить название местонахождения (обратное геокодирование). Оно можент включать следующие\n",
    "параметры (в зависимости от сервиса):\n",
    "    - Страна\n",
    "    - Регион\n",
    "    - Город\n",
    "    - Улица\n",
    "    - Дом\n",
    "    - Индекс и т.п.\n"
   ]
  },
  {
   "cell_type": "code",
   "execution_count": 13,
   "metadata": {},
   "outputs": [
    {
     "name": "stdout",
     "output_type": "stream",
     "text": [
      "b\n"
     ]
    }
   ],
   "source": [
    "a = -6\n",
    "if a >= 0:\n",
    "    print('a')\n",
    "elif a < -5:\n",
    "    print('b')"
   ]
  },
  {
   "cell_type": "code",
   "execution_count": 20,
   "metadata": {},
   "outputs": [
    {
     "name": "stdout",
     "output_type": "stream",
     "text": [
      "aaaa\n"
     ]
    },
    {
     "data": {
      "text/plain": [
       "'abba'"
      ]
     },
     "execution_count": 20,
     "metadata": {},
     "output_type": "execute_result"
    }
   ],
   "source": [
    "example = 'abba'\n",
    "print(example.replace('b','a'))\n",
    "example"
   ]
  },
  {
   "cell_type": "code",
   "execution_count": 21,
   "metadata": {},
   "outputs": [
    {
     "name": "stdout",
     "output_type": "stream",
     "text": [
      "123.44\n"
     ]
    }
   ],
   "source": [
    "print(f'{123.444:.2f}')"
   ]
  },
  {
   "cell_type": "code",
   "execution_count": 23,
   "metadata": {},
   "outputs": [
    {
     "name": "stdout",
     "output_type": "stream",
     "text": [
      "<_io.TextIOWrapper name='movies_example.txt' mode='r' encoding='cp1252'>\n"
     ]
    }
   ],
   "source": [
    "f = open('movies_example.txt', 'r')\n",
    "print(f)"
   ]
  },
  {
   "cell_type": "code",
   "execution_count": null,
   "metadata": {},
   "outputs": [],
   "source": []
  }
 ],
 "metadata": {
  "kernelspec": {
   "display_name": "Python 3",
   "language": "python",
   "name": "python3"
  },
  "language_info": {
   "codemirror_mode": {
    "name": "ipython",
    "version": 3
   },
   "file_extension": ".py",
   "mimetype": "text/x-python",
   "name": "python",
   "nbconvert_exporter": "python",
   "pygments_lexer": "ipython3",
   "version": "3.7.6"
  }
 },
 "nbformat": 4,
 "nbformat_minor": 4
}
