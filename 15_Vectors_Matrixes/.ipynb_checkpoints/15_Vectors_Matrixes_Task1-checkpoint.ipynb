{
 "cells": [
  {
   "cell_type": "markdown",
   "metadata": {},
   "source": [
    "# Домашняя работа №1"
   ]
  },
  {
   "cell_type": "code",
   "execution_count": 9,
   "metadata": {},
   "outputs": [],
   "source": [
    "import numpy as np\n",
    "import pylab as pl\n",
    "import pandas as pd\n",
    "import warnings\n",
    "import math\n",
    "from numpy import linalg as la\n",
    "\n",
    "# from matplotlib import pyplot as plt\n",
    "import matplotlib.pyplot as plt\n",
    "from scipy import linalg\n",
    "\n",
    "\n",
    "warnings.filterwarnings(\"ignore\")"
   ]
  },
  {
   "cell_type": "markdown",
   "metadata": {},
   "source": [
    "## Задание 1"
   ]
  },
  {
   "cell_type": "markdown",
   "metadata": {},
   "source": [
    "Изобразите с помощью matplotlib. Изобразите точку x + 2y + 3z. Найдите угол между векторами x, y и x, z. "
   ]
  },
  {
   "cell_type": "code",
   "execution_count": 10,
   "metadata": {},
   "outputs": [
    {
     "name": "stdout",
     "output_type": "stream",
     "text": [
      "Угол между векторами X и Y: 45.0 градусов\n",
      "Угол между векторами Y и Z: 90.0 градусов\n"
     ]
    },
    {
     "data": {
      "image/png": "[encoded data removed]",
      "text/plain": [
       "<Figure size 432x288 with 1 Axes>"
      ]
     },
     "metadata": {
      "needs_background": "light"
     },
     "output_type": "display_data"
    }
   ],
   "source": [
    "x = np.array([1,1])\n",
    "y = np.array([2,0])\n",
    "z = np.array([0,2])\n",
    "\n",
    "fig, ax = plt.subplots()\n",
    "\n",
    "# Складываем вектор x и вектора y,z, умноженные на 2 и 3 соотвесттвенно\n",
    "res_vect = x + np.multiply(y,2) + np.multiply(z,3)\n",
    "\n",
    "# Выводим исходные и результирующий вектора\n",
    "ax.plot([0,x[0]],[0,x[1]])\n",
    "ax.plot([0,y[0]],[0,y[1]])\n",
    "ax.plot([0,z[0]],[0,z[1]])\n",
    "ax.plot([0,res_vect[0]], [0,res_vect[1]])\n",
    "ax.legend(['X', 'Y', 'Z', 'X + 2Y + 3Z'])\n",
    "\n",
    "# Рассчитываем и выводим значения углов между векторами по формуле cos(a) = a*b / |a|*|b|\n",
    "cos_a = np.dot(x,y) / (np.linalg.norm(x) * np.linalg.norm(y))\n",
    "print(f'Угол между векторами X и Y: {round(math.degrees(math.acos(cos_a)),1)} градусов')\n",
    "\n",
    "cos_b = np.dot(y,z) / (np.linalg.norm(y) * np.linalg.norm(z))\n",
    "print(f'Угол между векторами Y и Z: {round(math.degrees(math.acos(cos_b)),1)} градусов')"
   ]
  },
  {
   "cell_type": "markdown",
   "metadata": {},
   "source": [
    "## Задание 2"
   ]
  },
  {
   "cell_type": "markdown",
   "metadata": {},
   "source": [
    "Загрузите модель человека. Найдите расстояние от правой кисти до позвоночника"
   ]
  },
  {
   "cell_type": "code",
   "execution_count": 17,
   "metadata": {},
   "outputs": [
    {
     "name": "stdout",
     "output_type": "stream",
     "text": [
      "Расстояние между кистью и позвоночником: 0.582\n"
     ]
    },
    {
     "data": {
      "image/png": "[encoded data removed]",
      "text/plain": [
       "<Figure size 432x288 with 1 Axes>"
      ]
     },
     "metadata": {
      "needs_background": "light"
     },
     "output_type": "display_data"
    }
   ],
   "source": [
    "ns = ['type', 'x', 'y', 'z']\n",
    "# read points for joints\n",
    "dfJointsVertexes = pd.read_csv('data/joints.txt', sep=' ', names = ns)\n",
    "axis_sort = 'x' \n",
    "df = dfJointsVertexes.sort_values(by=[axis_sort])\n",
    "\n",
    "# Принимаем, что расстояние от кисти до позвоночника - это расстояние от кисти (точка 16) до середины позвоночника\n",
    "# Точку середины позвоночника определяем по средним координатам между точками начала (11) и конца позвоночника (9)\n",
    "mid_point = np.array([(df.x[9]+df.x[11])/2, (df.y[9]+df.y[11])/2])\n",
    "\n",
    "plt.plot([mid_point[0],df.x[16]],[mid_point[1],df.y[16]],'r--',linewidth=1.5)\n",
    "plt.scatter(df.x, df.y)\n",
    "plt.scatter(df.x[9], df.y[9])\n",
    "plt.scatter(df.x[11], df.y[11])\n",
    "plt.scatter(df.x[16], df.y[16])\n",
    "plt.scatter(mid_point[0], mid_point[1])\n",
    "plt.legend(['расстояние до кисти', 'все точки', 'начало позвоночника', 'окончание позвоночника', 'кисть', 'середина позвоночника'])\n",
    "\n",
    "# Рассчитываем расстояние как \n",
    "dist = [mid_point[0]-df.x[16], mid_point[1]-df.y[16]]\n",
    "print(f'Расстояние между кистью и позвоночником: {round(np.linalg.norm(dist),3)}')"
   ]
  },
  {
   "cell_type": "markdown",
   "metadata": {},
   "source": [
    "# Задание 3"
   ]
  },
  {
   "cell_type": "markdown",
   "metadata": {},
   "source": [
    "Найдите собственные значения и собственные вектора матриц (необходимо решение на numpy). Для матрицы 3x3 можно посмотреть на корни характеристического многочлена, посчитанные в numpy."
   ]
  },
  {
   "cell_type": "code",
   "execution_count": 37,
   "metadata": {},
   "outputs": [],
   "source": [
    "m1 = np.array([[2, 2],\n",
    "               [1, 3]])\n",
    "\n",
    "m2 = np.array([[4, 1, -1],\n",
    "               [1, 4, -1],\n",
    "               [-1, -1, 4]])"
   ]
  },
  {
   "cell_type": "code",
   "execution_count": 38,
   "metadata": {},
   "outputs": [
    {
     "name": "stdout",
     "output_type": "stream",
     "text": [
      "Исходная матрица: \n",
      " [[2 2]\n",
      " [1 3]]\n",
      "Собственные вектора: \n",
      " [[-0.89442719 -0.70710678]\n",
      " [ 0.4472136  -0.70710678]]\n",
      "Собственные значения:  [1. 4.]\n"
     ]
    }
   ],
   "source": [
    "e_vals, e_vecs = la.eig(m1)\n",
    "print('Исходная матрица: \\n', m1)\n",
    "\n",
    "print('Собственные вектора: \\n', e_vecs)\n",
    "print('Собственные значения: ', e_vals)"
   ]
  },
  {
   "cell_type": "code",
   "execution_count": 39,
   "metadata": {},
   "outputs": [
    {
     "name": "stdout",
     "output_type": "stream",
     "text": [
      "Исходная матрица: \n",
      " [[ 4  1 -1]\n",
      " [ 1  4 -1]\n",
      " [-1 -1  4]]\n",
      "Собственные вектора: \n",
      " [[-0.81649658  0.57735027 -0.27658128]\n",
      " [ 0.40824829  0.57735027  0.8035929 ]\n",
      " [-0.40824829 -0.57735027  0.52701162]]\n",
      "Собственные значения:  [3. 6. 3.]\n"
     ]
    }
   ],
   "source": [
    "e_vals, e_vecs = la.eig(m2)\n",
    "print('Исходная матрица: \\n', m2)\n",
    "\n",
    "print('Собственные вектора: \\n', e_vecs)\n",
    "print('Собственные значения: ', e_vals)"
   ]
  },
  {
   "cell_type": "code",
   "execution_count": null,
   "metadata": {},
   "outputs": [],
   "source": []
  }
 ],
 "metadata": {
  "kernelspec": {
   "display_name": "Python 3",
   "language": "python",
   "name": "python3"
  },
  "language_info": {
   "codemirror_mode": {
    "name": "ipython",
    "version": 3
   },
   "file_extension": ".py",
   "mimetype": "text/x-python",
   "name": "python",
   "nbconvert_exporter": "python",
   "pygments_lexer": "ipython3",
   "version": "3.7.6"
  }
 },
 "nbformat": 4,
 "nbformat_minor": 2
}
