{
 "cells": [
  {
   "cell_type": "code",
   "execution_count": 2,
   "metadata": {},
   "outputs": [
    {
     "name": "stdout",
     "output_type": "stream",
     "text": [
      "0.7927696970961278\n"
     ]
    }
   ],
   "source": [
    "import pandas as pd\n",
    "from geopy import distance\n",
    "import matplotlib.pyplot as plt\n",
    "\n",
    "newport_ri = (-73.988129, 40.732029)\n",
    "cleveland_oh = (-73.990173, 40.756680)\n",
    "print(distance.distance(newport_ri, cleveland_oh).km)\n",
    "# 538.39044536\n",
    "\n",
    "# print geopy.distance.vincenty(coords_1, coords_2).km"
   ]
  },
  {
   "cell_type": "code",
   "execution_count": 1,
   "metadata": {
    "scrolled": false
   },
   "outputs": [],
   "source": [
    "# taxi = pd.read_csv('test.csv')\n",
    "# taxi"
   ]
  },
  {
   "cell_type": "code",
   "execution_count": 2,
   "metadata": {},
   "outputs": [],
   "source": [
    "# taxi = taxi.drop(taxi[(taxi.dropoff_latitude < -90.0) | (taxi.dropoff_latitude > 90)].index)\n",
    "# taxi"
   ]
  },
  {
   "cell_type": "code",
   "execution_count": 73,
   "metadata": {},
   "outputs": [],
   "source": [
    "# def get_distance(row):\n",
    "#     return distance.distance((row['pickup_longitude'], row['pickup_latitude']), (row['dropoff_longitude'], row['dropoff_latitude'])).km\n",
    "    \n",
    "# taxi['trip_distance'] = taxi.apply(get_distance, axis=1)\n"
   ]
  },
  {
   "cell_type": "code",
   "execution_count": 3,
   "metadata": {},
   "outputs": [
    {
     "data": {
      "text/html": [
       "<div>\n",
       "<style scoped>\n",
       "    .dataframe tbody tr th:only-of-type {\n",
       "        vertical-align: middle;\n",
       "    }\n",
       "\n",
       "    .dataframe tbody tr th {\n",
       "        vertical-align: top;\n",
       "    }\n",
       "\n",
       "    .dataframe thead th {\n",
       "        text-align: right;\n",
       "    }\n",
       "</style>\n",
       "<table border=\"1\" class=\"dataframe\">\n",
       "  <thead>\n",
       "    <tr style=\"text-align: right;\">\n",
       "      <th></th>\n",
       "      <th>Time of event</th>\n",
       "      <th>Month</th>\n",
       "      <th>Order nr</th>\n",
       "      <th>Event ID</th>\n",
       "      <th>Partner name</th>\n",
       "      <th>Order Value</th>\n",
       "      <th>Commission TD</th>\n",
       "      <th>Commission Pub. Total</th>\n",
       "      <th>Commission Total</th>\n",
       "      <th>Status</th>\n",
       "      <th>Last changed</th>\n",
       "    </tr>\n",
       "  </thead>\n",
       "  <tbody>\n",
       "    <tr>\n",
       "      <th>0</th>\n",
       "      <td>1/1/20 8:34:51 AM UTC+3</td>\n",
       "      <td>1</td>\n",
       "      <td>07079-477426</td>\n",
       "      <td>374299</td>\n",
       "      <td>EP</td>\n",
       "      <td>1225</td>\n",
       "      <td>4.90</td>\n",
       "      <td>74.72</td>\n",
       "      <td>79.63</td>\n",
       "      <td>Approved</td>\n",
       "      <td>2/7/2020 17:07</td>\n",
       "    </tr>\n",
       "    <tr>\n",
       "      <th>1</th>\n",
       "      <td>1/1/20 8:49:04 AM UTC+3</td>\n",
       "      <td>1</td>\n",
       "      <td>07079-467342</td>\n",
       "      <td>374299</td>\n",
       "      <td>EP</td>\n",
       "      <td>1057</td>\n",
       "      <td>4.23</td>\n",
       "      <td>64.48</td>\n",
       "      <td>68.71</td>\n",
       "      <td>Approved</td>\n",
       "      <td>2/7/2020 17:09</td>\n",
       "    </tr>\n",
       "    <tr>\n",
       "      <th>2</th>\n",
       "      <td>1/1/20 9:14:43 AM UTC+3</td>\n",
       "      <td>1</td>\n",
       "      <td>07078-350728</td>\n",
       "      <td>374299</td>\n",
       "      <td>Other</td>\n",
       "      <td>5971</td>\n",
       "      <td>29.84</td>\n",
       "      <td>358.26</td>\n",
       "      <td>388.10</td>\n",
       "      <td>Deleted</td>\n",
       "      <td>2/7/2020 15:12</td>\n",
       "    </tr>\n",
       "    <tr>\n",
       "      <th>3</th>\n",
       "      <td>1/1/20 9:14:43 AM UTC+3</td>\n",
       "      <td>1</td>\n",
       "      <td>07079-070656</td>\n",
       "      <td>374299</td>\n",
       "      <td>Other</td>\n",
       "      <td>1027</td>\n",
       "      <td>5.13</td>\n",
       "      <td>61.62</td>\n",
       "      <td>66.75</td>\n",
       "      <td>Deleted</td>\n",
       "      <td>2/7/2020 15:12</td>\n",
       "    </tr>\n",
       "    <tr>\n",
       "      <th>4</th>\n",
       "      <td>1/1/20 9:25:28 AM UTC+3</td>\n",
       "      <td>1</td>\n",
       "      <td>57005-657374</td>\n",
       "      <td>374299</td>\n",
       "      <td>EP</td>\n",
       "      <td>1597</td>\n",
       "      <td>6.39</td>\n",
       "      <td>97.42</td>\n",
       "      <td>103.81</td>\n",
       "      <td>Approved</td>\n",
       "      <td>2/7/2020 17:07</td>\n",
       "    </tr>\n",
       "    <tr>\n",
       "      <th>...</th>\n",
       "      <td>...</td>\n",
       "      <td>...</td>\n",
       "      <td>...</td>\n",
       "      <td>...</td>\n",
       "      <td>...</td>\n",
       "      <td>...</td>\n",
       "      <td>...</td>\n",
       "      <td>...</td>\n",
       "      <td>...</td>\n",
       "      <td>...</td>\n",
       "      <td>...</td>\n",
       "    </tr>\n",
       "    <tr>\n",
       "      <th>60515</th>\n",
       "      <td>6/30/20 11:20:47 PM UTC+3</td>\n",
       "      <td>6</td>\n",
       "      <td>57034-112667</td>\n",
       "      <td>374299</td>\n",
       "      <td>EP</td>\n",
       "      <td>3255</td>\n",
       "      <td>13.03</td>\n",
       "      <td>198.55</td>\n",
       "      <td>211.58</td>\n",
       "      <td>Pending</td>\n",
       "      <td>NaN</td>\n",
       "    </tr>\n",
       "    <tr>\n",
       "      <th>60516</th>\n",
       "      <td>6/30/20 11:21:10 PM UTC+3</td>\n",
       "      <td>6</td>\n",
       "      <td>57034-062431</td>\n",
       "      <td>374299</td>\n",
       "      <td>EP</td>\n",
       "      <td>1295</td>\n",
       "      <td>5.18</td>\n",
       "      <td>79.00</td>\n",
       "      <td>84.18</td>\n",
       "      <td>Pending</td>\n",
       "      <td>NaN</td>\n",
       "    </tr>\n",
       "    <tr>\n",
       "      <th>60517</th>\n",
       "      <td>6/30/20 11:28:56 PM UTC+3</td>\n",
       "      <td>6</td>\n",
       "      <td>57034-152728</td>\n",
       "      <td>374299</td>\n",
       "      <td>CB</td>\n",
       "      <td>11200</td>\n",
       "      <td>55.98</td>\n",
       "      <td>672.00</td>\n",
       "      <td>727.98</td>\n",
       "      <td>Pending</td>\n",
       "      <td>NaN</td>\n",
       "    </tr>\n",
       "    <tr>\n",
       "      <th>60518</th>\n",
       "      <td>6/30/20 11:31:20 PM UTC+3</td>\n",
       "      <td>6</td>\n",
       "      <td>57034-102757</td>\n",
       "      <td>374299</td>\n",
       "      <td>EP</td>\n",
       "      <td>7539</td>\n",
       "      <td>30.17</td>\n",
       "      <td>459.88</td>\n",
       "      <td>490.05</td>\n",
       "      <td>Pending</td>\n",
       "      <td>NaN</td>\n",
       "    </tr>\n",
       "    <tr>\n",
       "      <th>60519</th>\n",
       "      <td>6/30/20 11:42:46 PM UTC+3</td>\n",
       "      <td>6</td>\n",
       "      <td>07097-431583</td>\n",
       "      <td>374299</td>\n",
       "      <td>EP</td>\n",
       "      <td>2730</td>\n",
       "      <td>10.92</td>\n",
       "      <td>166.53</td>\n",
       "      <td>177.45</td>\n",
       "      <td>Pending</td>\n",
       "      <td>NaN</td>\n",
       "    </tr>\n",
       "  </tbody>\n",
       "</table>\n",
       "<p>60520 rows × 11 columns</p>\n",
       "</div>"
      ],
      "text/plain": [
       "                   Time of event  Month      Order nr  Event ID Partner name  \\\n",
       "0        1/1/20 8:34:51 AM UTC+3      1  07079-477426    374299           EP   \n",
       "1        1/1/20 8:49:04 AM UTC+3      1  07079-467342    374299           EP   \n",
       "2        1/1/20 9:14:43 AM UTC+3      1  07078-350728    374299        Other   \n",
       "3        1/1/20 9:14:43 AM UTC+3      1  07079-070656    374299        Other   \n",
       "4        1/1/20 9:25:28 AM UTC+3      1  57005-657374    374299           EP   \n",
       "...                          ...    ...           ...       ...          ...   \n",
       "60515  6/30/20 11:20:47 PM UTC+3      6  57034-112667    374299           EP   \n",
       "60516  6/30/20 11:21:10 PM UTC+3      6  57034-062431    374299           EP   \n",
       "60517  6/30/20 11:28:56 PM UTC+3      6  57034-152728    374299           CB   \n",
       "60518  6/30/20 11:31:20 PM UTC+3      6  57034-102757    374299           EP   \n",
       "60519  6/30/20 11:42:46 PM UTC+3      6  07097-431583    374299           EP   \n",
       "\n",
       "       Order Value  Commission TD  Commission Pub. Total  Commission Total  \\\n",
       "0             1225           4.90                  74.72             79.63   \n",
       "1             1057           4.23                  64.48             68.71   \n",
       "2             5971          29.84                 358.26            388.10   \n",
       "3             1027           5.13                  61.62             66.75   \n",
       "4             1597           6.39                  97.42            103.81   \n",
       "...            ...            ...                    ...               ...   \n",
       "60515         3255          13.03                 198.55            211.58   \n",
       "60516         1295           5.18                  79.00             84.18   \n",
       "60517        11200          55.98                 672.00            727.98   \n",
       "60518         7539          30.17                 459.88            490.05   \n",
       "60519         2730          10.92                 166.53            177.45   \n",
       "\n",
       "         Status    Last changed  \n",
       "0      Approved  2/7/2020 17:07  \n",
       "1      Approved  2/7/2020 17:09  \n",
       "2       Deleted  2/7/2020 15:12  \n",
       "3       Deleted  2/7/2020 15:12  \n",
       "4      Approved  2/7/2020 17:07  \n",
       "...         ...             ...  \n",
       "60515   Pending             NaN  \n",
       "60516   Pending             NaN  \n",
       "60517   Pending             NaN  \n",
       "60518   Pending             NaN  \n",
       "60519   Pending             NaN  \n",
       "\n",
       "[60520 rows x 11 columns]"
      ]
     },
     "execution_count": 3,
     "metadata": {},
     "output_type": "execute_result"
    }
   ],
   "source": [
    "sales = pd.read_csv('sales_data.csv')\n",
    "sales"
   ]
  },
  {
   "cell_type": "code",
   "execution_count": 8,
   "metadata": {},
   "outputs": [
    {
     "data": {
      "text/plain": [
       "[<matplotlib.lines.Line2D at 0x2c4719368c8>]"
      ]
     },
     "execution_count": 8,
     "metadata": {},
     "output_type": "execute_result"
    },
    {
     "data": {
      "image/png": "[encoded data removed]",
      "text/plain": [
       "<Figure size 432x288 with 1 Axes>"
      ]
     },
     "metadata": {
      "needs_background": "light"
     },
     "output_type": "display_data"
    }
   ],
   "source": [
    "plt\n",
    "plt.plot([1, 4, 9, 16, 25, 36, 49])"
   ]
  },
  {
   "cell_type": "code",
   "execution_count": 20,
   "metadata": {},
   "outputs": [
    {
     "data": {
      "text/html": [
       "<div>\n",
       "<style scoped>\n",
       "    .dataframe tbody tr th:only-of-type {\n",
       "        vertical-align: middle;\n",
       "    }\n",
       "\n",
       "    .dataframe tbody tr th {\n",
       "        vertical-align: top;\n",
       "    }\n",
       "\n",
       "    .dataframe thead th {\n",
       "        text-align: right;\n",
       "    }\n",
       "</style>\n",
       "<table border=\"1\" class=\"dataframe\">\n",
       "  <thead>\n",
       "    <tr style=\"text-align: right;\">\n",
       "      <th></th>\n",
       "      <th>Partner name</th>\n",
       "      <th>Month</th>\n",
       "      <th>Event ID</th>\n",
       "      <th>Order Value</th>\n",
       "      <th>Commission TD</th>\n",
       "      <th>Commission Pub. Total</th>\n",
       "      <th>Commission Total</th>\n",
       "    </tr>\n",
       "  </thead>\n",
       "  <tbody>\n",
       "    <tr>\n",
       "      <th>0</th>\n",
       "      <td>C4B</td>\n",
       "      <td>11871</td>\n",
       "      <td>1094075977</td>\n",
       "      <td>11914923</td>\n",
       "      <td>74903.17</td>\n",
       "      <td>766200.28</td>\n",
       "      <td>8.411034e+05</td>\n",
       "    </tr>\n",
       "    <tr>\n",
       "      <th>1</th>\n",
       "      <td>Other</td>\n",
       "      <td>16055</td>\n",
       "      <td>1310795098</td>\n",
       "      <td>16268365</td>\n",
       "      <td>112573.84</td>\n",
       "      <td>989020.72</td>\n",
       "      <td>1.101595e+06</td>\n",
       "    </tr>\n",
       "    <tr>\n",
       "      <th>2</th>\n",
       "      <td>KT</td>\n",
       "      <td>13868</td>\n",
       "      <td>1379666114</td>\n",
       "      <td>17235300</td>\n",
       "      <td>104683.20</td>\n",
       "      <td>1096197.00</td>\n",
       "      <td>1.200880e+06</td>\n",
       "    </tr>\n",
       "    <tr>\n",
       "      <th>3</th>\n",
       "      <td>SK</td>\n",
       "      <td>31249</td>\n",
       "      <td>3121279361</td>\n",
       "      <td>58558966</td>\n",
       "      <td>348091.34</td>\n",
       "      <td>3699835.80</td>\n",
       "      <td>4.047927e+06</td>\n",
       "    </tr>\n",
       "    <tr>\n",
       "      <th>4</th>\n",
       "      <td>CB</td>\n",
       "      <td>67901</td>\n",
       "      <td>5649669106</td>\n",
       "      <td>121108014</td>\n",
       "      <td>755761.93</td>\n",
       "      <td>7771021.97</td>\n",
       "      <td>8.526784e+06</td>\n",
       "    </tr>\n",
       "    <tr>\n",
       "      <th>5</th>\n",
       "      <td>EP</td>\n",
       "      <td>96834</td>\n",
       "      <td>10097089824</td>\n",
       "      <td>124210074</td>\n",
       "      <td>673500.15</td>\n",
       "      <td>8091354.96</td>\n",
       "      <td>8.764858e+06</td>\n",
       "    </tr>\n",
       "  </tbody>\n",
       "</table>\n",
       "</div>"
      ],
      "text/plain": [
       "  Partner name  Month     Event ID  Order Value  Commission TD  \\\n",
       "0          C4B  11871   1094075977     11914923       74903.17   \n",
       "1        Other  16055   1310795098     16268365      112573.84   \n",
       "2           KT  13868   1379666114     17235300      104683.20   \n",
       "3           SK  31249   3121279361     58558966      348091.34   \n",
       "4           CB  67901   5649669106    121108014      755761.93   \n",
       "5           EP  96834  10097089824    124210074      673500.15   \n",
       "\n",
       "   Commission Pub. Total  Commission Total  \n",
       "0              766200.28      8.411034e+05  \n",
       "1              989020.72      1.101595e+06  \n",
       "2             1096197.00      1.200880e+06  \n",
       "3             3699835.80      4.047927e+06  \n",
       "4             7771021.97      8.526784e+06  \n",
       "5             8091354.96      8.764858e+06  "
      ]
     },
     "execution_count": 20,
     "metadata": {},
     "output_type": "execute_result"
    }
   ],
   "source": [
    "# sales_partners = sales['Partner name'].value_counts().head()\n",
    "\n",
    "sales_partners = sales.groupby('Partner name').sum().sort_values('Order Value', ascending=True).reset_index()\n",
    "sales_partners"
   ]
  },
  {
   "cell_type": "code",
   "execution_count": 21,
   "metadata": {},
   "outputs": [
    {
     "data": {
      "text/plain": [
       "<BarContainer object of 6 artists>"
      ]
     },
     "execution_count": 21,
     "metadata": {},
     "output_type": "execute_result"
    },
    {
     "data": {
      "image/png": "[encoded data removed]",
      "text/plain": [
       "<Figure size 432x288 with 1 Axes>"
      ]
     },
     "metadata": {
      "needs_background": "light"
     },
     "output_type": "display_data"
    }
   ],
   "source": [
    "plt.barh(sales_partners['Partner name'], sales_partners['Order Value'])"
   ]
  },
  {
   "cell_type": "code",
   "execution_count": 35,
   "metadata": {},
   "outputs": [
    {
     "data": {
      "text/html": [
       "<div>\n",
       "<style scoped>\n",
       "    .dataframe tbody tr th:only-of-type {\n",
       "        vertical-align: middle;\n",
       "    }\n",
       "\n",
       "    .dataframe tbody tr th {\n",
       "        vertical-align: top;\n",
       "    }\n",
       "\n",
       "    .dataframe thead th {\n",
       "        text-align: right;\n",
       "    }\n",
       "</style>\n",
       "<table border=\"1\" class=\"dataframe\">\n",
       "  <thead>\n",
       "    <tr style=\"text-align: right;\">\n",
       "      <th>Partner name</th>\n",
       "      <th>C4B</th>\n",
       "      <th>CB</th>\n",
       "      <th>EP</th>\n",
       "      <th>KT</th>\n",
       "      <th>Other</th>\n",
       "      <th>SK</th>\n",
       "    </tr>\n",
       "    <tr>\n",
       "      <th>Month</th>\n",
       "      <th></th>\n",
       "      <th></th>\n",
       "      <th></th>\n",
       "      <th></th>\n",
       "      <th></th>\n",
       "      <th></th>\n",
       "    </tr>\n",
       "  </thead>\n",
       "  <tbody>\n",
       "    <tr>\n",
       "      <th>1</th>\n",
       "      <td>87139</td>\n",
       "      <td>0</td>\n",
       "      <td>14584112</td>\n",
       "      <td>1475766</td>\n",
       "      <td>295401</td>\n",
       "      <td>7109801</td>\n",
       "    </tr>\n",
       "    <tr>\n",
       "      <th>2</th>\n",
       "      <td>2527985</td>\n",
       "      <td>7706843</td>\n",
       "      <td>17005240</td>\n",
       "      <td>1419216</td>\n",
       "      <td>1091054</td>\n",
       "      <td>6098864</td>\n",
       "    </tr>\n",
       "    <tr>\n",
       "      <th>3</th>\n",
       "      <td>2167767</td>\n",
       "      <td>20589762</td>\n",
       "      <td>15610024</td>\n",
       "      <td>2934667</td>\n",
       "      <td>1514487</td>\n",
       "      <td>6795146</td>\n",
       "    </tr>\n",
       "    <tr>\n",
       "      <th>4</th>\n",
       "      <td>1288606</td>\n",
       "      <td>17123824</td>\n",
       "      <td>12622850</td>\n",
       "      <td>1994116</td>\n",
       "      <td>1868856</td>\n",
       "      <td>7103054</td>\n",
       "    </tr>\n",
       "    <tr>\n",
       "      <th>5</th>\n",
       "      <td>2489772</td>\n",
       "      <td>41974545</td>\n",
       "      <td>34768301</td>\n",
       "      <td>3982285</td>\n",
       "      <td>4898945</td>\n",
       "      <td>18359583</td>\n",
       "    </tr>\n",
       "    <tr>\n",
       "      <th>6</th>\n",
       "      <td>3353654</td>\n",
       "      <td>33713040</td>\n",
       "      <td>29619547</td>\n",
       "      <td>5429250</td>\n",
       "      <td>6599622</td>\n",
       "      <td>13092518</td>\n",
       "    </tr>\n",
       "  </tbody>\n",
       "</table>\n",
       "</div>"
      ],
      "text/plain": [
       "Partner name      C4B        CB        EP       KT    Other        SK\n",
       "Month                                                                \n",
       "1               87139         0  14584112  1475766   295401   7109801\n",
       "2             2527985   7706843  17005240  1419216  1091054   6098864\n",
       "3             2167767  20589762  15610024  2934667  1514487   6795146\n",
       "4             1288606  17123824  12622850  1994116  1868856   7103054\n",
       "5             2489772  41974545  34768301  3982285  4898945  18359583\n",
       "6             3353654  33713040  29619547  5429250  6599622  13092518"
      ]
     },
     "execution_count": 35,
     "metadata": {},
     "output_type": "execute_result"
    }
   ],
   "source": [
    "# sales_partners = sales.groupby(['Month','Partner name']).sum()#.sort_values('Month', ascending=True).reset_index()\n",
    "sales_partners = sales.pivot_table(index = 'Month', columns = 'Partner name', values = 'Order Value', aggfunc = 'sum', fill_value = 0)\n",
    "sales_partners"
   ]
  },
  {
   "cell_type": "code",
   "execution_count": 36,
   "metadata": {},
   "outputs": [
    {
     "data": {
      "text/plain": [
       "<matplotlib.axes._subplots.AxesSubplot at 0x17cdab8b748>"
      ]
     },
     "execution_count": 36,
     "metadata": {},
     "output_type": "execute_result"
    },
    {
     "data": {
      "image/png": "[encoded data removed]",
      "text/plain": [
       "<Figure size 432x288 with 1 Axes>"
      ]
     },
     "metadata": {
      "needs_background": "light"
     },
     "output_type": "display_data"
    }
   ],
   "source": [
    "sales_partners.plot()\n",
    "# plt.barh(sales_partners['Partner name'], sales_partners['Order Value'])\n"
   ]
  },
  {
   "cell_type": "code",
   "execution_count": null,
   "metadata": {},
   "outputs": [],
   "source": []
  }
 ],
 "metadata": {
  "kernelspec": {
   "display_name": "Python 3",
   "language": "python",
   "name": "python3"
  },
  "language_info": {
   "codemirror_mode": {
    "name": "ipython",
    "version": 3
   },
   "file_extension": ".py",
   "mimetype": "text/x-python",
   "name": "python",
   "nbconvert_exporter": "python",
   "pygments_lexer": "ipython3",
   "version": "3.7.6"
  }
 },
 "nbformat": 4,
 "nbformat_minor": 4
}
