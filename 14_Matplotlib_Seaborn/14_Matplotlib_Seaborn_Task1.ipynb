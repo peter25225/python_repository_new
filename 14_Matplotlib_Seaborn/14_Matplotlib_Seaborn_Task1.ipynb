{
 "cells": [
  {
   "cell_type": "code",
   "execution_count": 95,
   "metadata": {},
   "outputs": [],
   "source": [
    "import pandas as pd\n",
    "import matplotlib.pyplot as plt\n",
    "import seaborn as sns"
   ]
  },
  {
   "cell_type": "code",
   "execution_count": 124,
   "metadata": {},
   "outputs": [
    {
     "data": {
      "text/html": [
       "<div>\n",
       "<style scoped>\n",
       "    .dataframe tbody tr th:only-of-type {\n",
       "        vertical-align: middle;\n",
       "    }\n",
       "\n",
       "    .dataframe tbody tr th {\n",
       "        vertical-align: top;\n",
       "    }\n",
       "\n",
       "    .dataframe thead th {\n",
       "        text-align: right;\n",
       "    }\n",
       "</style>\n",
       "<table border=\"1\" class=\"dataframe\">\n",
       "  <thead>\n",
       "    <tr style=\"text-align: right;\">\n",
       "      <th></th>\n",
       "      <th>Time</th>\n",
       "      <th>Month</th>\n",
       "      <th>Partner</th>\n",
       "      <th>OrderValue</th>\n",
       "      <th>Commission</th>\n",
       "      <th>Status</th>\n",
       "      <th>LastChanged</th>\n",
       "    </tr>\n",
       "  </thead>\n",
       "  <tbody>\n",
       "    <tr>\n",
       "      <th>0</th>\n",
       "      <td>1/1/20 8:34:51 AM UTC+3</td>\n",
       "      <td>1</td>\n",
       "      <td>EP</td>\n",
       "      <td>1225</td>\n",
       "      <td>74.72</td>\n",
       "      <td>Approved</td>\n",
       "      <td>2/7/2020 17:07</td>\n",
       "    </tr>\n",
       "    <tr>\n",
       "      <th>1</th>\n",
       "      <td>1/1/20 8:49:04 AM UTC+3</td>\n",
       "      <td>1</td>\n",
       "      <td>EP</td>\n",
       "      <td>1057</td>\n",
       "      <td>64.48</td>\n",
       "      <td>Approved</td>\n",
       "      <td>2/7/2020 17:09</td>\n",
       "    </tr>\n",
       "    <tr>\n",
       "      <th>2</th>\n",
       "      <td>1/1/20 9:14:43 AM UTC+3</td>\n",
       "      <td>1</td>\n",
       "      <td>Other</td>\n",
       "      <td>5971</td>\n",
       "      <td>358.26</td>\n",
       "      <td>Deleted</td>\n",
       "      <td>2/7/2020 15:12</td>\n",
       "    </tr>\n",
       "    <tr>\n",
       "      <th>3</th>\n",
       "      <td>1/1/20 9:14:43 AM UTC+3</td>\n",
       "      <td>1</td>\n",
       "      <td>Other</td>\n",
       "      <td>1027</td>\n",
       "      <td>61.62</td>\n",
       "      <td>Deleted</td>\n",
       "      <td>2/7/2020 15:12</td>\n",
       "    </tr>\n",
       "    <tr>\n",
       "      <th>4</th>\n",
       "      <td>1/1/20 9:25:28 AM UTC+3</td>\n",
       "      <td>1</td>\n",
       "      <td>EP</td>\n",
       "      <td>1597</td>\n",
       "      <td>97.42</td>\n",
       "      <td>Approved</td>\n",
       "      <td>2/7/2020 17:07</td>\n",
       "    </tr>\n",
       "    <tr>\n",
       "      <th>5</th>\n",
       "      <td>1/1/20 9:30:14 AM UTC+3</td>\n",
       "      <td>1</td>\n",
       "      <td>EP</td>\n",
       "      <td>3920</td>\n",
       "      <td>239.12</td>\n",
       "      <td>Deleted</td>\n",
       "      <td>2/7/2020 15:12</td>\n",
       "    </tr>\n",
       "    <tr>\n",
       "      <th>6</th>\n",
       "      <td>1/1/20 9:32:56 AM UTC+3</td>\n",
       "      <td>1</td>\n",
       "      <td>EP</td>\n",
       "      <td>4410</td>\n",
       "      <td>269.01</td>\n",
       "      <td>Deleted</td>\n",
       "      <td>2/7/2020 15:12</td>\n",
       "    </tr>\n",
       "  </tbody>\n",
       "</table>\n",
       "</div>"
      ],
      "text/plain": [
       "                      Time  Month Partner  OrderValue  Commission    Status  \\\n",
       "0  1/1/20 8:34:51 AM UTC+3      1      EP        1225       74.72  Approved   \n",
       "1  1/1/20 8:49:04 AM UTC+3      1      EP        1057       64.48  Approved   \n",
       "2  1/1/20 9:14:43 AM UTC+3      1   Other        5971      358.26   Deleted   \n",
       "3  1/1/20 9:14:43 AM UTC+3      1   Other        1027       61.62   Deleted   \n",
       "4  1/1/20 9:25:28 AM UTC+3      1      EP        1597       97.42  Approved   \n",
       "5  1/1/20 9:30:14 AM UTC+3      1      EP        3920      239.12   Deleted   \n",
       "6  1/1/20 9:32:56 AM UTC+3      1      EP        4410      269.01   Deleted   \n",
       "\n",
       "      LastChanged  \n",
       "0  2/7/2020 17:07  \n",
       "1  2/7/2020 17:09  \n",
       "2  2/7/2020 15:12  \n",
       "3  2/7/2020 15:12  \n",
       "4  2/7/2020 17:07  \n",
       "5  2/7/2020 15:12  \n",
       "6  2/7/2020 15:12  "
      ]
     },
     "execution_count": 124,
     "metadata": {},
     "output_type": "execute_result"
    }
   ],
   "source": [
    "sales = pd.read_csv('sales_data.csv')\n",
    "# В файле представлены данные продаж, полученных от партнеров\n",
    "# Time - дата, время заказа\n",
    "# Month - месяц, в котором был сделан заказ\n",
    "# Partner - код партнера\n",
    "# Order Value - сумма заказа\n",
    "# Commission - комиссия партнера\n",
    "# Status - статус заказа (оплачен, отклонен, в ожидании)\n",
    "# Last changed - дата изменения статуса\n",
    "sales.head(7)"
   ]
  },
  {
   "cell_type": "code",
   "execution_count": 125,
   "metadata": {},
   "outputs": [
    {
     "data": {
      "text/html": [
       "<div>\n",
       "<style scoped>\n",
       "    .dataframe tbody tr th:only-of-type {\n",
       "        vertical-align: middle;\n",
       "    }\n",
       "\n",
       "    .dataframe tbody tr th {\n",
       "        vertical-align: top;\n",
       "    }\n",
       "\n",
       "    .dataframe thead th {\n",
       "        text-align: right;\n",
       "    }\n",
       "</style>\n",
       "<table border=\"1\" class=\"dataframe\">\n",
       "  <thead>\n",
       "    <tr style=\"text-align: right;\">\n",
       "      <th></th>\n",
       "      <th>Partner</th>\n",
       "      <th>Month</th>\n",
       "      <th>OrderValue</th>\n",
       "      <th>Commission</th>\n",
       "    </tr>\n",
       "  </thead>\n",
       "  <tbody>\n",
       "    <tr>\n",
       "      <th>0</th>\n",
       "      <td>C4B</td>\n",
       "      <td>11871</td>\n",
       "      <td>11914923</td>\n",
       "      <td>766200.28</td>\n",
       "    </tr>\n",
       "    <tr>\n",
       "      <th>1</th>\n",
       "      <td>Other</td>\n",
       "      <td>16055</td>\n",
       "      <td>16268365</td>\n",
       "      <td>989020.72</td>\n",
       "    </tr>\n",
       "    <tr>\n",
       "      <th>2</th>\n",
       "      <td>KT</td>\n",
       "      <td>13868</td>\n",
       "      <td>17235300</td>\n",
       "      <td>1096197.00</td>\n",
       "    </tr>\n",
       "    <tr>\n",
       "      <th>3</th>\n",
       "      <td>SK</td>\n",
       "      <td>31249</td>\n",
       "      <td>58558966</td>\n",
       "      <td>3699835.80</td>\n",
       "    </tr>\n",
       "    <tr>\n",
       "      <th>4</th>\n",
       "      <td>CB</td>\n",
       "      <td>67901</td>\n",
       "      <td>121108014</td>\n",
       "      <td>7771021.97</td>\n",
       "    </tr>\n",
       "    <tr>\n",
       "      <th>5</th>\n",
       "      <td>EP</td>\n",
       "      <td>96834</td>\n",
       "      <td>124210074</td>\n",
       "      <td>8091354.96</td>\n",
       "    </tr>\n",
       "  </tbody>\n",
       "</table>\n",
       "</div>"
      ],
      "text/plain": [
       "  Partner  Month  OrderValue  Commission\n",
       "0     C4B  11871    11914923   766200.28\n",
       "1   Other  16055    16268365   989020.72\n",
       "2      KT  13868    17235300  1096197.00\n",
       "3      SK  31249    58558966  3699835.80\n",
       "4      CB  67901   121108014  7771021.97\n",
       "5      EP  96834   124210074  8091354.96"
      ]
     },
     "execution_count": 125,
     "metadata": {},
     "output_type": "execute_result"
    }
   ],
   "source": [
    "sales_partners = sales.groupby('Partner').sum().sort_values('OrderValue', ascending=True).reset_index()\n",
    "sales_partners"
   ]
  },
  {
   "cell_type": "code",
   "execution_count": 126,
   "metadata": {},
   "outputs": [
    {
     "data": {
      "text/plain": [
       "<BarContainer object of 6 artists>"
      ]
     },
     "execution_count": 126,
     "metadata": {},
     "output_type": "execute_result"
    },
    {
     "data": {
      "image/png": "[encoded data removed]",
      "text/plain": [
       "<Figure size 432x288 with 1 Axes>"
      ]
     },
     "metadata": {
      "needs_background": "light"
     },
     "output_type": "display_data"
    }
   ],
   "source": [
    "# График 1 - Объем заказов в разрезе партнеров\n",
    "plt.barh(sales_partners['Partner'], sales_partners['OrderValue'])"
   ]
  },
  {
   "cell_type": "code",
   "execution_count": 127,
   "metadata": {},
   "outputs": [
    {
     "data": {
      "text/html": [
       "<div>\n",
       "<style scoped>\n",
       "    .dataframe tbody tr th:only-of-type {\n",
       "        vertical-align: middle;\n",
       "    }\n",
       "\n",
       "    .dataframe tbody tr th {\n",
       "        vertical-align: top;\n",
       "    }\n",
       "\n",
       "    .dataframe thead th {\n",
       "        text-align: right;\n",
       "    }\n",
       "</style>\n",
       "<table border=\"1\" class=\"dataframe\">\n",
       "  <thead>\n",
       "    <tr style=\"text-align: right;\">\n",
       "      <th>Partner</th>\n",
       "      <th>C4B</th>\n",
       "      <th>CB</th>\n",
       "      <th>EP</th>\n",
       "      <th>KT</th>\n",
       "      <th>Other</th>\n",
       "      <th>SK</th>\n",
       "    </tr>\n",
       "    <tr>\n",
       "      <th>Month</th>\n",
       "      <th></th>\n",
       "      <th></th>\n",
       "      <th></th>\n",
       "      <th></th>\n",
       "      <th></th>\n",
       "      <th></th>\n",
       "    </tr>\n",
       "  </thead>\n",
       "  <tbody>\n",
       "    <tr>\n",
       "      <th>1</th>\n",
       "      <td>87139</td>\n",
       "      <td>0</td>\n",
       "      <td>14584112</td>\n",
       "      <td>1475766</td>\n",
       "      <td>295401</td>\n",
       "      <td>7109801</td>\n",
       "    </tr>\n",
       "    <tr>\n",
       "      <th>2</th>\n",
       "      <td>2527985</td>\n",
       "      <td>7706843</td>\n",
       "      <td>17005240</td>\n",
       "      <td>1419216</td>\n",
       "      <td>1091054</td>\n",
       "      <td>6098864</td>\n",
       "    </tr>\n",
       "    <tr>\n",
       "      <th>3</th>\n",
       "      <td>2167767</td>\n",
       "      <td>20589762</td>\n",
       "      <td>15610024</td>\n",
       "      <td>2934667</td>\n",
       "      <td>1514487</td>\n",
       "      <td>6795146</td>\n",
       "    </tr>\n",
       "    <tr>\n",
       "      <th>4</th>\n",
       "      <td>1288606</td>\n",
       "      <td>17123824</td>\n",
       "      <td>12622850</td>\n",
       "      <td>1994116</td>\n",
       "      <td>1868856</td>\n",
       "      <td>7103054</td>\n",
       "    </tr>\n",
       "    <tr>\n",
       "      <th>5</th>\n",
       "      <td>2489772</td>\n",
       "      <td>41974545</td>\n",
       "      <td>34768301</td>\n",
       "      <td>3982285</td>\n",
       "      <td>4898945</td>\n",
       "      <td>18359583</td>\n",
       "    </tr>\n",
       "    <tr>\n",
       "      <th>6</th>\n",
       "      <td>3353654</td>\n",
       "      <td>33713040</td>\n",
       "      <td>29619547</td>\n",
       "      <td>5429250</td>\n",
       "      <td>6599622</td>\n",
       "      <td>13092518</td>\n",
       "    </tr>\n",
       "  </tbody>\n",
       "</table>\n",
       "</div>"
      ],
      "text/plain": [
       "Partner      C4B        CB        EP       KT    Other        SK\n",
       "Month                                                           \n",
       "1          87139         0  14584112  1475766   295401   7109801\n",
       "2        2527985   7706843  17005240  1419216  1091054   6098864\n",
       "3        2167767  20589762  15610024  2934667  1514487   6795146\n",
       "4        1288606  17123824  12622850  1994116  1868856   7103054\n",
       "5        2489772  41974545  34768301  3982285  4898945  18359583\n",
       "6        3353654  33713040  29619547  5429250  6599622  13092518"
      ]
     },
     "execution_count": 127,
     "metadata": {},
     "output_type": "execute_result"
    }
   ],
   "source": [
    "sales_partners = sales.pivot_table(index = 'Month', columns = 'Partner', values = 'OrderValue', aggfunc = 'sum', fill_value = 0)\n",
    "sales_partners"
   ]
  },
  {
   "cell_type": "code",
   "execution_count": 128,
   "metadata": {},
   "outputs": [
    {
     "data": {
      "text/plain": [
       "<matplotlib.axes._subplots.AxesSubplot at 0x17c8afaaf08>"
      ]
     },
     "execution_count": 128,
     "metadata": {},
     "output_type": "execute_result"
    },
    {
     "data": {
      "image/png": "[encoded data removed]",
      "text/plain": [
       "<Figure size 432x288 with 1 Axes>"
      ]
     },
     "metadata": {
      "needs_background": "light"
     },
     "output_type": "display_data"
    }
   ],
   "source": [
    "# График 2 - Динамика объема заказов по месяцам в разрезе партнеров\n",
    "sales_partners.plot()"
   ]
  },
  {
   "cell_type": "code",
   "execution_count": 137,
   "metadata": {},
   "outputs": [
    {
     "data": {
      "text/html": [
       "<div>\n",
       "<style scoped>\n",
       "    .dataframe tbody tr th:only-of-type {\n",
       "        vertical-align: middle;\n",
       "    }\n",
       "\n",
       "    .dataframe tbody tr th {\n",
       "        vertical-align: top;\n",
       "    }\n",
       "\n",
       "    .dataframe thead th {\n",
       "        text-align: right;\n",
       "    }\n",
       "</style>\n",
       "<table border=\"1\" class=\"dataframe\">\n",
       "  <thead>\n",
       "    <tr style=\"text-align: right;\">\n",
       "      <th>Partner</th>\n",
       "      <th>C4B</th>\n",
       "      <th>CB</th>\n",
       "      <th>EP</th>\n",
       "      <th>KT</th>\n",
       "      <th>Other</th>\n",
       "      <th>SK</th>\n",
       "    </tr>\n",
       "    <tr>\n",
       "      <th>Month</th>\n",
       "      <th></th>\n",
       "      <th></th>\n",
       "      <th></th>\n",
       "      <th></th>\n",
       "      <th></th>\n",
       "      <th></th>\n",
       "    </tr>\n",
       "  </thead>\n",
       "  <tbody>\n",
       "    <tr>\n",
       "      <th>1</th>\n",
       "      <td>4691.58</td>\n",
       "      <td>0.00</td>\n",
       "      <td>726924.80</td>\n",
       "      <td>68157.12</td>\n",
       "      <td>4805.34</td>\n",
       "      <td>296653.14</td>\n",
       "    </tr>\n",
       "    <tr>\n",
       "      <th>2</th>\n",
       "      <td>128595.54</td>\n",
       "      <td>506624.64</td>\n",
       "      <td>935968.04</td>\n",
       "      <td>69163.50</td>\n",
       "      <td>43376.69</td>\n",
       "      <td>284115.48</td>\n",
       "    </tr>\n",
       "    <tr>\n",
       "      <th>3</th>\n",
       "      <td>87175.98</td>\n",
       "      <td>842884.05</td>\n",
       "      <td>665811.49</td>\n",
       "      <td>130753.41</td>\n",
       "      <td>54405.77</td>\n",
       "      <td>295435.74</td>\n",
       "    </tr>\n",
       "    <tr>\n",
       "      <th>4</th>\n",
       "      <td>50839.48</td>\n",
       "      <td>676593.25</td>\n",
       "      <td>426077.94</td>\n",
       "      <td>66400.51</td>\n",
       "      <td>43200.41</td>\n",
       "      <td>287613.67</td>\n",
       "    </tr>\n",
       "    <tr>\n",
       "      <th>5</th>\n",
       "      <td>50396.52</td>\n",
       "      <td>370126.44</td>\n",
       "      <td>228804.75</td>\n",
       "      <td>54619.44</td>\n",
       "      <td>45488.62</td>\n",
       "      <td>184087.56</td>\n",
       "    </tr>\n",
       "  </tbody>\n",
       "</table>\n",
       "</div>"
      ],
      "text/plain": [
       "Partner        C4B         CB         EP         KT     Other         SK\n",
       "Month                                                                   \n",
       "1          4691.58       0.00  726924.80   68157.12   4805.34  296653.14\n",
       "2        128595.54  506624.64  935968.04   69163.50  43376.69  284115.48\n",
       "3         87175.98  842884.05  665811.49  130753.41  54405.77  295435.74\n",
       "4         50839.48  676593.25  426077.94   66400.51  43200.41  287613.67\n",
       "5         50396.52  370126.44  228804.75   54619.44  45488.62  184087.56"
      ]
     },
     "execution_count": 137,
     "metadata": {},
     "output_type": "execute_result"
    }
   ],
   "source": [
    "# График 3 - объем выплат по партнерам в разрезе месяцев\n",
    "comm_partners = sales[(sales.Status == 'Approved')].pivot_table(index = 'Month', columns = 'Partner', values = 'Commission', aggfunc = 'sum', fill_value = 0)\n",
    "comm_partners"
   ]
  },
  {
   "cell_type": "code",
   "execution_count": 138,
   "metadata": {},
   "outputs": [
    {
     "data": {
      "text/plain": [
       "<matplotlib.axes._subplots.AxesSubplot at 0x17c8bb27848>"
      ]
     },
     "execution_count": 138,
     "metadata": {},
     "output_type": "execute_result"
    },
    {
     "data": {
      "image/png": "[encoded data removed]",
      "text/plain": [
       "<Figure size 432x288 with 2 Axes>"
      ]
     },
     "metadata": {
      "needs_background": "light"
     },
     "output_type": "display_data"
    }
   ],
   "source": [
    "sns.heatmap(comm_partners, annot=False)"
   ]
  },
  {
   "cell_type": "code",
   "execution_count": 129,
   "metadata": {},
   "outputs": [
    {
     "data": {
      "text/plain": [
       "Text(0, 0.5, 'Number of orders')"
      ]
     },
     "execution_count": 129,
     "metadata": {},
     "output_type": "execute_result"
    },
    {
     "data": {
      "image/png": "[encoded data removed]",
      "text/plain": [
       "<Figure size 432x288 with 1 Axes>"
      ]
     },
     "metadata": {
      "needs_background": "light"
     },
     "output_type": "display_data"
    }
   ],
   "source": [
    "# График 4 - Распределение объема заказов\n",
    "sales = pd.read_csv('sales_data_mod.csv')\n",
    "ov_hist = sales['OrderValue'].plot.hist(bins = 100, xlim=(0,20000))\n",
    "ov_hist.set_title('Order Value distribution') \n",
    "ov_hist.set_xlabel('Order Value, RUB')\n",
    "ov_hist.set_ylabel('Number of orders')"
   ]
  },
  {
   "cell_type": "code",
   "execution_count": 130,
   "metadata": {},
   "outputs": [
    {
     "data": {
      "image/png": "[encoded data removed]",
      "text/plain": [
       "<Figure size 432x288 with 1 Axes>"
      ]
     },
     "metadata": {
      "needs_background": "light"
     },
     "output_type": "display_data"
    }
   ],
   "source": [
    "# График 5 - Распределение объема заказов в разрезе партнеров и статусов (подтверждены заказы клиентом или нет)\n",
    "# (интересно, что почти по всем партнерам сумма отклоненных заказов в среднем выше, чем сумма одобренных заказов)\n",
    "partners_list = ['C4B','CB','EP','KT','SK','Other']\n",
    "ov_partner = sns.boxplot(x=\"Partner\", y=\"OrderValue\", hue=\"Status\", data=sales[(sales.Partner.isin(partners_list))& (sales.Status != 'Pending')])"
   ]
  }
 ],
 "metadata": {
  "kernelspec": {
   "display_name": "Python 3",
   "language": "python",
   "name": "python3"
  },
  "language_info": {
   "codemirror_mode": {
    "name": "ipython",
    "version": 3
   },
   "file_extension": ".py",
   "mimetype": "text/x-python",
   "name": "python",
   "nbconvert_exporter": "python",
   "pygments_lexer": "ipython3",
   "version": "3.7.6"
  }
 },
 "nbformat": 4,
 "nbformat_minor": 4
}
