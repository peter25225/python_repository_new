{
 "cells": [
  {
   "cell_type": "code",
   "execution_count": null,
   "metadata": {},
   "outputs": [],
   "source": [
    "#Запрашиваем слово для анализа\n",
    "word = str(input(\"Введите слово:\"))\n",
    "# Проверяем четность символов\n",
    "if len(word) % 2 == 0:\n",
    "# Если число символов четное - отображаем 2 символа: один до середины слова и один после\n",
    "    print('Четное число символов')\n",
    "    print(f'Центральные символы: {word[len(word)//2-1]}{word[len(word)//2]}')\n",
    "else:\n",
    "# Если число символов нечетное - отображаем 1 символ в центре слова: \n",
    "    print('Нечетное число символов')\n",
    "    print(f'Центральный символ: {word[len(word)//2]}')"
   ]
  },
  {
   "cell_type": "code",
   "execution_count": null,
   "metadata": {},
   "outputs": [],
   "source": [
    "boys = ['Peter', 'Alex', 'John', 'Arthur', 'Richard']\n",
    "girls = ['Kate', 'Liza', 'Kira', 'Emma', 'Trisha']\n",
    "\n",
    "if len(boys) == len(girls):\n",
    "    combined_list = list(zip(sorted(boys),sorted(girls)))\n",
    "    print('Идеальные пары:')\n",
    "    for pair in combined_list:\n",
    "        print(f'{pair[0]} и {pair[1]}')\n",
    "else:\n",
    "    print('Число людей в списках неравное, невозможно составить пары!')"
   ]
  },
  {
   "cell_type": "code",
   "execution_count": null,
   "metadata": {},
   "outputs": [],
   "source": [
    "countries_temperature = [\n",
    " ['Thailand', [75.2, 77, 78.8, 73.4, 68, 75.2, 77]],\n",
    " ['Germany', [57.2, 55.4, 59, 59, 53.6, 55.4, 57.2]],\n",
    " ['Russia', [35.6, 37.4, 39.2, 41, 42.8, 39.2, 35.6]],\n",
    " ['Poland', [50, 50, 53.6, 57.2, 55.4, 55.4, 51.8]],\n",
    "]\n",
    "\n",
    "print('Average weekly temperature')\n",
    "# Для каждой страны в списке\n",
    "for country in countries_temperature:\n",
    "# Рассчитываем среднюю температуру\n",
    "    weekly_temp = sum(country[1])/len(country[1])\n",
    "# Выводим название страны и значение температуры в Цельсиях, округляя до 2-х знаков после запятой\n",
    "    print(country[0] + \": \" + '{:.2f}'.format((weekly_temp-32)*5/9) + \" C\")\n"
   ]
  },
  {
   "cell_type": "code",
   "execution_count": null,
   "metadata": {},
   "outputs": [],
   "source": [
    "stream = [\n",
    "    '2018-01-01,user1,3',\n",
    "    '2018-01-07,user1,4',\n",
    "    '2018-03-29,user1,1',\n",
    "    '2018-04-04,user1,13',\n",
    "    '2018-01-05,user2,7',\n",
    "    '2018-06-14,user3,4',\n",
    "    '2018-07-02,user3,10',\n",
    "    '2018-03-21,user4,19',\n",
    "    '2018-03-22,user4,4',\n",
    "    '2018-04-22,user4,8',\n",
    "    '2018-05-03,user4,9',\n",
    "    '2018-05-11,user4,11',\n",
    "]\n",
    "# Вводим вспомогательные переменные: текущий пользователь, число пользователей, число просмотров, текущий список\n",
    "current_user = \"\"\n",
    "user_count = 0\n",
    "views_sum = 0\n",
    "cur_record = []\n",
    "\n",
    "# Проходим все записи массива данных\n",
    "for record in stream:\n",
    "# Записываем в текущий список разделенную по символу \",\" строку \n",
    "    cur_record = record.split(',')\n",
    "# Если пользователь поменялся, инкрементируем счетчик пользователей и меняем текущего пользователя\n",
    "# (сортировка по ID пользователя позволяет использовать такую логику)\n",
    "    if current_user != cur_record[1]:\n",
    "        user_count += 1\n",
    "        current_user = cur_record[1]\n",
    "# Добавляем число просмотров к общей сумме просмотров\n",
    "    views_sum += int(cur_record[2])\n",
    "\n",
    "print(f'Всего пользователей: {user_count}')\n",
    "print(f'Всего просмотров: {views_sum}')\n",
    "print(f'Среднее число просмотров на 1 пользователя: {views_sum/user_count}')"
   ]
  },
  {
   "cell_type": "code",
   "execution_count": null,
   "metadata": {},
   "outputs": [],
   "source": [
    "stats = [\n",
    "    ['2018-01-01', 'google', 25],\n",
    "    ['2018-01-01', 'yandex', 65],\n",
    "    ['2018-01-01', 'market', 89],\n",
    "    ['2018-01-02', 'google', 574],\n",
    "    ['2018-01-02', 'yandex', 249],\n",
    "    ['2018-01-02', 'market', 994],\n",
    "    ['2018-01-03', 'google', 1843],\n",
    "    ['2018-01-03', 'yandex', 1327],\n",
    "    ['2018-01-03', 'market', 1764],\n",
    "]\n",
    "stats_dictionary = {}\n",
    "# Копируем данные из списка в словарь, ключом будет строка [дата]+[кампания]\n",
    "for record in stats:\n",
    "    stats_dictionary[record[0]+record[1]] = record[2]\n",
    "    \n",
    "# Для простоты ввода задаем переменные\n",
    "date='2018-01-02'\n",
    "campaign='google'\n",
    "\n",
    "# Ищем в словаре по ключу и выводим соответствующее значение \n",
    "print(f'Значение для кампании \"{campaign}\" за дату \"{date}\": {stats_dictionary.get(date+campaign)}')"
   ]
  },
  {
   "cell_type": "code",
   "execution_count": null,
   "metadata": {},
   "outputs": [],
   "source": [
    "data = [\n",
    "    [13, 25, 23, 34],\n",
    "    [45, 32, 44, 47],\n",
    "    [12, 33, 23, 95],\n",
    "    [13, 53, 34, 35]\n",
    "]\n",
    "\n",
    "# Принимаем, что в массиве число строк всегда равно числу столбцов, вычисляем размер массива\n",
    "length = len(data)\n",
    "diаgonal_sum = 0\n",
    "\n",
    "# Проходим по всем строкам/столбцам\n",
    "for i in range(length):\n",
    "# Элемент массива, лежащий на главной диагонали (номер столбца равен номеру строки), добавляем к сумме\n",
    "    diаgonal_sum += data[i][i]\n",
    "    \n",
    "print(f'Сумма диагонали массива: {diаgonal_sum}')"
   ]
  },
  {
   "cell_type": "code",
   "execution_count": null,
   "metadata": {},
   "outputs": [],
   "source": []
  }
 ],
 "metadata": {
  "kernelspec": {
   "display_name": "Python 3",
   "language": "python",
   "name": "python3"
  },
  "language_info": {
   "codemirror_mode": {
    "name": "ipython",
    "version": 3
   },
   "file_extension": ".py",
   "mimetype": "text/x-python",
   "name": "python",
   "nbconvert_exporter": "python",
   "pygments_lexer": "ipython3",
   "version": "3.7.6"
  }
 },
 "nbformat": 4,
 "nbformat_minor": 4
}
