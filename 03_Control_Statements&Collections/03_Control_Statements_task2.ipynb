{
 "cells": [
  {
   "cell_type": "code",
   "execution_count": 180,
   "metadata": {},
   "outputs": [
    {
     "name": "stdout",
     "output_type": "stream",
     "text": [
      "[{'visit1': ['Москва', 'Россия']}, {'visit3': ['Владимир', 'Россия']}, {'visit7': ['Тула', 'Россия']}, {'visit8': ['Тула', 'Россия']}, {'visit9': ['Курск', 'Россия']}, {'visit10': ['Архангельск', 'Россия']}]\n"
     ]
    }
   ],
   "source": [
    "geo_logs = [\n",
    "    {'visit1': ['Москва', 'Россия']},\n",
    "    {'visit2': ['Дели', 'Индия']},\n",
    "    {'visit3': ['Владимир', 'Россия']},\n",
    "    {'visit4': ['Лиссабон', 'Португалия']},\n",
    "    {'visit5': ['Париж', 'Франция']},\n",
    "    {'visit6': ['Лиссабон', 'Португалия']},\n",
    "    {'visit7': ['Тула', 'Россия']},\n",
    "    {'visit8': ['Тула', 'Россия']},\n",
    "    {'visit9': ['Курск', 'Россия']},\n",
    "    {'visit10': ['Архангельск', 'Россия']}\n",
    "]\n",
    "\n",
    "# Вводим вспомогательную переменную списока\n",
    "new_geo_logs = []\n",
    "\n",
    "# Перебираем все словари в списке\n",
    "for visit in geo_logs:\n",
    "# Если среди значений словаря есть \"Россия\", копируем этот словарь в новый список\n",
    "    if 'Россия' in str(visit.values()):\n",
    "        new_geo_logs.append(visit)\n",
    "\n",
    "print(new_geo_logs)\n"
   ]
  },
  {
   "cell_type": "code",
   "execution_count": 182,
   "metadata": {},
   "outputs": [
    {
     "name": "stdout",
     "output_type": "stream",
     "text": [
      "{98, 35, 15, 213, 54, 119}\n"
     ]
    }
   ],
   "source": [
    "ids = {'user1': [213, 213, 213, 15, 213], \n",
    "       'user2': [54, 54, 119, 119, 119], \n",
    "       'user3': [213, 98, 98, 35]}\n",
    "# Проходим все записи словаря\n",
    "for user in ids:\n",
    "# Если множество пустое - создаем его из значений текущей записи\n",
    "    if not ids_set:\n",
    "        ids_set = set(ids[user])\n",
    "    else:\n",
    "# Если нет - объединяем его со значениями текущей записи\n",
    "        ids_set = ids_set.union(set(ids[user]))\n",
    "\n",
    "print(ids_set)"
   ]
  },
  {
   "cell_type": "code",
   "execution_count": 124,
   "metadata": {},
   "outputs": [
    {
     "name": "stdout",
     "output_type": "stream",
     "text": [
      "Доля запросов из 3 слов: 57.1%\n",
      "Доля запросов из 2 слов: 42.9%\n"
     ]
    }
   ],
   "source": [
    "queries = [\n",
    "    'смотреть сериалы онлайн',\n",
    "    'новости спорта',\n",
    "    'афиша кино',\n",
    "    'курс доллара',\n",
    "    'сериалы этим летом',\n",
    "    'курс по питону',\n",
    "    'сериалы про спорт'\n",
    "]\n",
    "\n",
    "# Считаем общее число сохраненных запросов\n",
    "queries_count = len(queries) \n",
    "# Создаем вспомогательный словарь для хранения статистики по запросам\n",
    "query_stat = {}\n",
    "\n",
    "# Для каждого запроса из списка\n",
    "for query in queries:\n",
    "# Создаем список из слов запроса\n",
    "    cur_list = query.split()\n",
    "# Проверяем в нашем словаре со статистикой, есть ли запись с ключом, равным количеству слов в текущем запросе\n",
    "    if not query_stat.get(len(cur_list)):\n",
    "# Если нет - создаем его со значением 1\n",
    "        query_stat[len(cur_list)] = 1\n",
    "    else:\n",
    "# Если есть - инкрементируем значение на 1\n",
    "        query_stat[len(cur_list)] += 1\n",
    "\n",
    "# Выводим все записанные значения количества слов и считаем долю таких запросов от общего числа запросов    \n",
    "for item in query_stat:\n",
    "    print(f'Доля запросов из {str(item)} слов: {round(query_stat[item]/queries_count*100,1)}%')\n"
   ]
  },
  {
   "cell_type": "code",
   "execution_count": 164,
   "metadata": {},
   "outputs": [
    {
     "name": "stdout",
     "output_type": "stream",
     "text": [
      "yandex\n"
     ]
    }
   ],
   "source": [
    "stats = {'facebook': 55, 'yandex': 120, 'vk': 115, 'google': 99, 'email': 42, 'ok': 98}\n",
    "# Задаем вспомогательные переменные, присваиваем им нулевые значения\n",
    "max_value = 0\n",
    "max_channel = \"\"\n",
    "# В цикле проходим все пары значений в словаре\n",
    "for channel in stats:\n",
    "# Если значение объема продаж из текущей пары больше значения вспомогательной переменной \n",
    "    if stats[channel] > max_value:\n",
    "# То записваем новые значения в переменные\n",
    "        max_value = stats[channel]\n",
    "        max_channel = channel\n",
    "        \n",
    "print(max_channel)"
   ]
  },
  {
   "cell_type": "code",
   "execution_count": 163,
   "metadata": {},
   "outputs": [
    {
     "name": "stdout",
     "output_type": "stream",
     "text": [
      "['2018-01-01', 'yandex', 'source', 200, 'cpc', 100]\n",
      "{'2018-01-01': {'yandex': {'source': {200: {'cpc': 100}}}}}\n"
     ]
    }
   ],
   "source": [
    "my_list = ['2018-01-01', 'yandex', 'source', 200, 'cpc', 100]\n",
    "\n",
    "# Создаем переменный словарей: основной и вспомогательный \n",
    "mega_dict = {}\n",
    "cur_dict = {}\n",
    "# Определяем длинну списка, устанавливаем 'указатель' на предпоследний елемент исходного списка\n",
    "list_ind = len(my_list)-2\n",
    "\n",
    "# Формируем первый словарь из последнего и предпоследнего значений списка\n",
    "mega_dict[my_list[list_ind]] = my_list[list_ind+1]\n",
    "\n",
    "# В цикле проходим все остальные элементы списка\n",
    "while list_ind:\n",
    "    list_ind -= 1\n",
    "    cur_dict.clear()\n",
    "# Во вспомогательный словарь записываем очередной элемент в ключ и текущую версию вложенного словаря в значение\n",
    "    cur_dict[my_list[list_ind]] = mega_dict.copy()\n",
    "    mega_dict.clear()\n",
    "    mega_dict = cur_dict.copy()\n",
    "\n",
    "print(mega_dict)"
   ]
  },
  {
   "cell_type": "code",
   "execution_count": null,
   "metadata": {},
   "outputs": [],
   "source": []
  }
 ],
 "metadata": {
  "kernelspec": {
   "display_name": "Python 3",
   "language": "python",
   "name": "python3"
  },
  "language_info": {
   "codemirror_mode": {
    "name": "ipython",
    "version": 3
   },
   "file_extension": ".py",
   "mimetype": "text/x-python",
   "name": "python",
   "nbconvert_exporter": "python",
   "pygments_lexer": "ipython3",
   "version": "3.7.6"
  }
 },
 "nbformat": 4,
 "nbformat_minor": 4
}
